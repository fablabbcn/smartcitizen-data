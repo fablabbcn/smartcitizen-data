{
 "cells": [
  {
   "cell_type": "code",
   "execution_count": null,
   "id": "46129a2a-90d7-4004-85d0-42adc4826c52",
   "metadata": {},
   "outputs": [],
   "source": [
    "%load_ext autoreload\n",
    "%autoreload 2"
   ]
  },
  {
   "cell_type": "code",
   "execution_count": null,
   "id": "e7ed679d-bec3-402f-bf2e-0557fd7a335d",
   "metadata": {},
   "outputs": [],
   "source": [
    "import smartcitizen_connector\n",
    "import scdata as sc\n",
    "import time\n",
    "now = time.localtime()"
   ]
  },
  {
   "cell_type": "code",
   "execution_count": null,
   "id": "0dcb02b2-fdec-47ba-b906-a56a06bc6889",
   "metadata": {},
   "outputs": [],
   "source": [
    "df = smartcitizen_connector.search_by_query(endpoint='devices',\n",
    "                                            search_items=[{\n",
    "                                                'key': 'postprocessing_id', \n",
    "                                                'value': 'not_null',\n",
    "                                                'full': True\n",
    "                                            }])"
   ]
  },
  {
   "cell_type": "code",
   "execution_count": null,
   "id": "d4177b2a-b490-479a-b7d8-c4f19895a3eb",
   "metadata": {},
   "outputs": [],
   "source": [
    "# Find by MAC addresses\n",
    "devices = []\n",
    "mac_addresses = ['CF65', 'C9F0', '7D71', 'B5E9', 'C8C7', 'D3CD']"
   ]
  },
  {
   "cell_type": "code",
   "execution_count": null,
   "id": "5c0c8d53-0b71-43fd-9cde-8f884e08ab16",
   "metadata": {
    "scrolled": true
   },
   "outputs": [],
   "source": [
    "for item in df['postprocessing']:\n",
    "    name = df.loc[item['device_id'], 'name']\n",
    "    # print (item['device_id'], df.loc[item['device_id'], 'name'], item['meta'])\n",
    "    if item['meta'] is None: continue\n",
    "    if 'twinair' not in item['meta'].lower(): continue\n",
    "    if '#' in name:\n",
    "        ind = name.index('#') + 1\n",
    "        if name[ind:] in mac_addresses: \n",
    "            print (f\"Found: {name[ind:]} - {item['device_id']}\")\n",
    "            devices.append(item['device_id'])\n",
    "        else:\n",
    "            d = smartcitizen_connector.SCDevice(item['device_id'])\n",
    "            mac = d.last_status_message.mac.replace(':','')[-4:]\n",
    "            if mac in mac_addresses: \n",
    "                print (f\"Digging deeper, found: {name[ind:]} - {item['device_id']}\")\n",
    "                devices.append(item['device_id'])"
   ]
  },
  {
   "cell_type": "code",
   "execution_count": null,
   "id": "0808b138-3a98-4ddd-ba4e-f7365a63d627",
   "metadata": {},
   "outputs": [],
   "source": [
    "devices"
   ]
  },
  {
   "cell_type": "code",
   "execution_count": null,
   "id": "d614943f-87d1-45c0-bbd0-5ea661033dbf",
   "metadata": {
    "scrolled": true
   },
   "outputs": [],
   "source": [
    "macs = {}\n",
    "for device in devices:\n",
    "    a = smartcitizen_connector.SCDevice(device)\n",
    "    macs[device] = a.last_status_message"
   ]
  },
  {
   "cell_type": "code",
   "execution_count": null,
   "id": "07b89fb2-a9c7-47bb-bae1-6467fbf1838c",
   "metadata": {
    "scrolled": true
   },
   "outputs": [],
   "source": [
    "macs"
   ]
  },
  {
   "cell_type": "code",
   "execution_count": null,
   "id": "e27c94f3-c959-461a-8629-49259cf858bb",
   "metadata": {
    "scrolled": true
   },
   "outputs": [],
   "source": [
    "devices_api = [sc.Device(blueprint='sc_air', params=sc.APIParams(id=id)) for id in devices]"
   ]
  },
  {
   "cell_type": "code",
   "execution_count": null,
   "id": "e27233a1-481a-4a8e-9c38-4e54ca42a03d",
   "metadata": {},
   "outputs": [],
   "source": [
    "devices_csv = [sc.Device(blueprint='sc_air',\n",
    "                        source={'type':'csv', \n",
    "                                'handler': 'CSVHandler',\n",
    "                                'module': 'scdata.io.device_file'},\n",
    "                        params=sc.CSVParams(id=0, \n",
    "                                            path=f'csv/CO2 Chamber Testing SCKs_7545Test 001_raw.csv',\n",
    "                                            header_skip=[1],\n",
    "                                            separator='\\t',\n",
    "                                            timezone='Europe/Madrid')\n",
    "                      )]"
   ]
  },
  {
   "cell_type": "code",
   "execution_count": null,
   "id": "1ae1e0af-177c-441d-b6e8-6f801969dd58",
   "metadata": {
    "scrolled": true
   },
   "outputs": [],
   "source": [
    "test = sc.Test(name=f'CO2_CHAMBER_TEST',\n",
    "            devices=devices_api + devices_csv,\n",
    "            force_recreate=True\n",
    ")\n",
    "test.options.cache=True"
   ]
  },
  {
   "cell_type": "code",
   "execution_count": null,
   "id": "71c80312-fbbf-4841-822b-27fb58367e0c",
   "metadata": {
    "scrolled": true
   },
   "outputs": [],
   "source": [
    "await test.load()"
   ]
  },
  {
   "cell_type": "code",
   "execution_count": null,
   "id": "dba18122-d6e2-4b14-8e1f-ab6c9a8c8e8d",
   "metadata": {},
   "outputs": [],
   "source": [
    "import pandas as pd"
   ]
  },
  {
   "cell_type": "code",
   "execution_count": null,
   "id": "c0efbede-df93-40b0-b711-ff5a3d7e2251",
   "metadata": {},
   "outputs": [],
   "source": [
    "test.get_device(0).data.index = test.get_device(0).data.index - pd.Timedelta(hours=1) "
   ]
  },
  {
   "cell_type": "code",
   "execution_count": null,
   "id": "984bff40-9e36-4aee-8cb7-a7ad71b8326f",
   "metadata": {},
   "outputs": [],
   "source": [
    "traces = {\n",
    "            \"1\": {\"devices\": [17265, 17295, 17313, 17318, 17319, 17306],\n",
    "                  \"channel\": \"SCD30_CO2\",\n",
    "                  \"subplot\": 1},\n",
    "            \"2\": {\"devices\": [0],\n",
    "                  \"channel\": \"CO2\",\n",
    "                  \"subplot\": 1}\n",
    "        }\n",
    "\n",
    "test.ts_uplot(traces = traces, \n",
    "              formatting = {'width':1000, \n",
    "                            'title': 'CO2',\n",
    "                            'padding-bottom': 600,\n",
    "                            'ylabel': {1: 'CO2 (ppm)'}\n",
    "                           }, \n",
    "              options = {'frequency': '1Min', \n",
    "                         'min_date':'2024-05-22 18:50:00', \n",
    "                         'max_date':'2024-05-24 16:15:00'\n",
    "                         })"
   ]
  },
  {
   "cell_type": "code",
   "execution_count": null,
   "id": "b99b2844-aafb-4e41-b0ed-428c23f0f577",
   "metadata": {},
   "outputs": [],
   "source": []
  }
 ],
 "metadata": {
  "kernelspec": {
   "display_name": "Python 3 (ipykernel)",
   "language": "python",
   "name": "python3"
  },
  "language_info": {
   "codemirror_mode": {
    "name": "ipython",
    "version": 3
   },
   "file_extension": ".py",
   "mimetype": "text/x-python",
   "name": "python",
   "nbconvert_exporter": "python",
   "pygments_lexer": "ipython3",
   "version": "3.11.7"
  }
 },
 "nbformat": 4,
 "nbformat_minor": 5
}
