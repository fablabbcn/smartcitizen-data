{
 "cells": [
  {
   "cell_type": "code",
   "execution_count": null,
   "id": "f4791fa2-d0c2-4789-bbdd-218aad2f1504",
   "metadata": {},
   "outputs": [],
   "source": [
    "import smartcitizen_connector\n",
    "import scdata as sc\n",
    "import time\n",
    "now = time.localtime()"
   ]
  },
  {
   "cell_type": "code",
   "execution_count": null,
   "id": "14999577-1d9f-4822-8bd3-4f643dc65fea",
   "metadata": {},
   "outputs": [],
   "source": [
    "df = smartcitizen_connector.search_by_query(endpoint='devices',\n",
    "                                            search_items=[{\n",
    "                                                'key': 'postprocessing_id', \n",
    "                                                'value': 'not_null',\n",
    "                                                'full': True\n",
    "                                            }])"
   ]
  },
  {
   "cell_type": "code",
   "execution_count": null,
   "id": "2c4cea55-443a-4955-aa87-bc447e33fdf3",
   "metadata": {},
   "outputs": [],
   "source": []
  },
  {
   "cell_type": "code",
   "execution_count": null,
   "id": "db427d48-ce30-48c7-8b0a-61dac54ced97",
   "metadata": {
    "scrolled": true
   },
   "outputs": [],
   "source": [
    "devices = []\n",
    "for item in df['postprocessing']:\n",
    "    print (item['device_id'], item['meta'])\n",
    "    if item['meta'] == 'delivery-twinair-1':\n",
    "        devices.append(item['device_id'])"
   ]
  },
  {
   "cell_type": "code",
   "execution_count": null,
   "id": "2e0c8b42-109f-4a7e-89bd-2d79c8fb8273",
   "metadata": {},
   "outputs": [],
   "source": [
    "len(devices)"
   ]
  },
  {
   "cell_type": "code",
   "execution_count": null,
   "id": "91aeb4b5-dcaa-4a23-a14f-a5cd23619c68",
   "metadata": {
    "scrolled": true
   },
   "outputs": [],
   "source": [
    "test = sc.Test(name=f'TWIANIR_CO2-HCHO_BATCH_1',\n",
    "            devices=[sc.Device(blueprint='sc_air', params=sc.APIParams(id=id)) for id in devices])\n",
    "test.options.cache=True"
   ]
  },
  {
   "cell_type": "code",
   "execution_count": null,
   "id": "af583e62-7fc7-4fa3-865c-75d218cf5f34",
   "metadata": {
    "scrolled": true
   },
   "outputs": [],
   "source": [
    "await test.load()"
   ]
  },
  {
   "cell_type": "code",
   "execution_count": null,
   "id": "537d8a53-11e4-4571-ae9c-4a38232d64cb",
   "metadata": {},
   "outputs": [],
   "source": [
    "len(test.devices)"
   ]
  },
  {
   "cell_type": "code",
   "execution_count": null,
   "id": "7d5c5737-f085-43c8-ad5c-da02d249ac90",
   "metadata": {},
   "outputs": [],
   "source": [
    "traces = {\n",
    "            \"1\": {\"devices\": \"all\",\n",
    "                  \"channel\": \"TEMP\",\n",
    "                  \"subplot\": 1}\n",
    "        }\n",
    "\n",
    "test.ts_uplot(traces = traces, \n",
    "              formatting = {'width':1000, \n",
    "                            'title': 'Temperature', \n",
    "                            'ylabel': {1: 'Temperature (degC)'}\n",
    "                           }, \n",
    "              options = {'frequency': '1Min'})"
   ]
  },
  {
   "cell_type": "code",
   "execution_count": null,
   "id": "b2903df1-33b9-4d3e-ba19-9c3fd68e8c11",
   "metadata": {},
   "outputs": [],
   "source": [
    "traces = {\n",
    "            \"1\": {\"devices\": \"all\",\n",
    "                  \"channel\": \"SEN5X_PM_25\",\n",
    "                  \"subplot\": 1}\n",
    "        }\n",
    "\n",
    "test.ts_uplot(traces = traces, \n",
    "              formatting = {'width':1000, \n",
    "                            'title': 'PM 2.5', \n",
    "                            'ylabel': {1: 'PM 2.5 (ug/m3)'}\n",
    "                           }, \n",
    "              options = {'frequency': '5Min'})"
   ]
  },
  {
   "cell_type": "code",
   "execution_count": null,
   "id": "309f7dac-ff2a-4ea7-8283-4e1b8c9c3e0c",
   "metadata": {},
   "outputs": [],
   "source": [
    "traces = {\n",
    "            \"1\": {\"devices\": \"all\",\n",
    "                  \"channel\": \"NOISE_A\",\n",
    "                  \"subplot\": 1}\n",
    "        }\n",
    "\n",
    "test.ts_uplot(traces = traces, \n",
    "              formatting = {'width':1000, \n",
    "                            'title': 'Noise Level', \n",
    "                            'ylabel': {1: 'Noise SPL (dBA)'}\n",
    "                           }, \n",
    "              options = {'frequency': '10Min'})"
   ]
  },
  {
   "cell_type": "code",
   "execution_count": null,
   "id": "eca67374-672c-4f50-85ed-bbfe7cc9c725",
   "metadata": {},
   "outputs": [],
   "source": [
    "test.get_device(17305).data.columns"
   ]
  },
  {
   "cell_type": "code",
   "execution_count": null,
   "id": "cf448322-cd5d-4803-863f-f4cbce64a275",
   "metadata": {},
   "outputs": [],
   "source": [
    "traces = {\n",
    "            \"1\": {\"devices\": \"all\",\n",
    "                  \"channel\": \"ST LPS33 - Barometric Pressure\",\n",
    "                  \"subplot\": 1},\n",
    "            \"2\": {\"devices\": \"all\",\n",
    "                  \"channel\": \"HUM\",\n",
    "                  \"subplot\": 2}\n",
    "        }\n",
    "\n",
    "test.ts_uplot(traces = traces, \n",
    "              formatting = {'width':1000, \n",
    "                            'title': 'Barometric Pressure', \n",
    "                           }, \n",
    "              options = {'frequency': '5Min'})"
   ]
  },
  {
   "cell_type": "code",
   "execution_count": null,
   "id": "663b145b-feb0-452e-b654-cf6bdc681581",
   "metadata": {},
   "outputs": [],
   "source": [
    "traces = {\n",
    "            \"1\": {\"devices\": \"all\",\n",
    "                  \"channel\": \"SCD30_CO2\",\n",
    "                  \"subplot\": 1}\n",
    "        }\n",
    "\n",
    "test.ts_uplot(traces = traces, \n",
    "              formatting = {'width':1000, \n",
    "                            'title': 'CO2 (ppm)', \n",
    "                           }, \n",
    "              options = {'frequency': '5Min'})"
   ]
  },
  {
   "cell_type": "code",
   "execution_count": null,
   "id": "56f3cd6f-bee9-4637-9efa-3821a7d85afb",
   "metadata": {},
   "outputs": [],
   "source": [
    "traces = {\n",
    "            \"1\": {\"devices\": \"all\",\n",
    "                  \"channel\": \"SFA30_HCHO\",\n",
    "                  \"subplot\": 1}\n",
    "        }\n",
    "\n",
    "test.ts_uplot(traces = traces, \n",
    "              formatting = {'width':1000, \n",
    "                            'title': 'HCHO (ppb)', \n",
    "                           }, \n",
    "              options = {'frequency': '1Min'})"
   ]
  },
  {
   "cell_type": "code",
   "execution_count": null,
   "id": "2d0244f3-5996-4d07-b0cf-d1e8bb294ee2",
   "metadata": {},
   "outputs": [],
   "source": []
  }
 ],
 "metadata": {
  "kernelspec": {
   "display_name": "Python 3 (ipykernel)",
   "language": "python",
   "name": "python3"
  },
  "language_info": {
   "codemirror_mode": {
    "name": "ipython",
    "version": 3
   },
   "file_extension": ".py",
   "mimetype": "text/x-python",
   "name": "python",
   "nbconvert_exporter": "python",
   "pygments_lexer": "ipython3",
   "version": "3.11.7"
  }
 },
 "nbformat": 4,
 "nbformat_minor": 5
}
