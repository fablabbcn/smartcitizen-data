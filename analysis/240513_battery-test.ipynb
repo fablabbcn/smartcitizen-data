{
 "cells": [
  {
   "cell_type": "code",
   "execution_count": null,
   "id": "f4791fa2-d0c2-4789-bbdd-218aad2f1504",
   "metadata": {},
   "outputs": [],
   "source": [
    "import smartcitizen_connector\n",
    "import scdata as sc\n",
    "import time\n",
    "now = time.localtime()"
   ]
  },
  {
   "cell_type": "code",
   "execution_count": null,
   "id": "14999577-1d9f-4822-8bd3-4f643dc65fea",
   "metadata": {},
   "outputs": [],
   "source": [
    "df = smartcitizen_connector.search_by_query(endpoint='devices',\n",
    "                                            search_items=[{\n",
    "                                                'key': 'postprocessing_id', \n",
    "                                                'value': 'not_null',\n",
    "                                                'full': True\n",
    "                                            }])"
   ]
  },
  {
   "cell_type": "code",
   "execution_count": null,
   "id": "db427d48-ce30-48c7-8b0a-61dac54ced97",
   "metadata": {
    "scrolled": true
   },
   "outputs": [],
   "source": [
    "for item in df['postprocessing']:\n",
    "    print (item['device_id'], item['meta'])"
   ]
  },
  {
   "cell_type": "code",
   "execution_count": null,
   "id": "91aeb4b5-dcaa-4a23-a14f-a5cd23619c68",
   "metadata": {
    "scrolled": true
   },
   "outputs": [],
   "source": [
    "test = sc.Test(name=f'BATTERY_CHECK_SCK2.2',\n",
    "            devices=[sc.Device(blueprint='sc_air', params=sc.APIParams(id=id)) for id in [17293, 17294]],\n",
    "            force_recreate=True)\n",
    "test.options.cache=True"
   ]
  },
  {
   "cell_type": "code",
   "execution_count": null,
   "id": "af583e62-7fc7-4fa3-865c-75d218cf5f34",
   "metadata": {
    "scrolled": true
   },
   "outputs": [],
   "source": [
    "await test.load()"
   ]
  },
  {
   "cell_type": "code",
   "execution_count": null,
   "id": "da718d26-bc03-48f6-b02c-2cc5211d78c8",
   "metadata": {},
   "outputs": [],
   "source": [
    "test.get_device(17294).data.columns"
   ]
  },
  {
   "cell_type": "code",
   "execution_count": null,
   "id": "7d5c5737-f085-43c8-ad5c-da02d249ac90",
   "metadata": {},
   "outputs": [],
   "source": [
    "traces = {\n",
    "            \"1\": {\"devices\": \"all\",\n",
    "                  \"channel\": \"BATT\",\n",
    "                  \"subplot\": 1}\n",
    "        }\n",
    "\n",
    "test.ts_uplot(traces = traces, \n",
    "              formatting = {'width':1000, \n",
    "                            'title': 'Battery discharge test', \n",
    "                            'ylabel': {1: 'Battery level (%)'}\n",
    "                           }, \n",
    "              options = {'frequency': '1Min'})"
   ]
  },
  {
   "cell_type": "code",
   "execution_count": null,
   "id": "b2903df1-33b9-4d3e-ba19-9c3fd68e8c11",
   "metadata": {},
   "outputs": [],
   "source": []
  }
 ],
 "metadata": {
  "kernelspec": {
   "display_name": "Python 3 (ipykernel)",
   "language": "python",
   "name": "python3"
  },
  "language_info": {
   "codemirror_mode": {
    "name": "ipython",
    "version": 3
   },
   "file_extension": ".py",
   "mimetype": "text/x-python",
   "name": "python",
   "nbconvert_exporter": "python",
   "pygments_lexer": "ipython3",
   "version": "3.11.7"
  }
 },
 "nbformat": 4,
 "nbformat_minor": 5
}
