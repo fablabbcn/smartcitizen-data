{
 "cells": [
  {
   "cell_type": "markdown",
   "metadata": {},
   "source": [
    "# Palo Alto Analysis"
   ]
  },
  {
   "cell_type": "markdown",
   "metadata": {
    "tags": [],
    "toc-hr-collapsed": true
   },
   "source": [
    "## Data sources"
   ]
  },
  {
   "cell_type": "code",
   "execution_count": null,
   "metadata": {},
   "outputs": [],
   "source": [
    "%load_ext autoreload\n",
    "%autoreload 2"
   ]
  },
  {
   "cell_type": "code",
   "execution_count": null,
   "metadata": {},
   "outputs": [],
   "source": [
    "import scdata as sc\n",
    "from scdata._config import config\n",
    "config._out_level = 'DEBUG'"
   ]
  },
  {
   "cell_type": "code",
   "execution_count": null,
   "metadata": {},
   "outputs": [],
   "source": [
    "test = sc.Test('PALO_ALTO')"
   ]
  },
  {
   "cell_type": "markdown",
   "metadata": {},
   "source": [
    "### Test create"
   ]
  },
  {
   "cell_type": "code",
   "execution_count": null,
   "metadata": {
    "tags": []
   },
   "outputs": [],
   "source": [
    "test.add_device(sc.Device(blueprint='sck_21_co2', descriptor={'source': 'api', 'id': 14129, 'frequency': '1Min'}))"
   ]
  },
  {
   "cell_type": "code",
   "execution_count": null,
   "metadata": {
    "tags": []
   },
   "outputs": [],
   "source": [
    "test.add_device(sc.Device(blueprint='sck_21_co2', descriptor={'source': 'api', 'id': 14133, 'frequency': '1Min'}))"
   ]
  },
  {
   "cell_type": "code",
   "execution_count": null,
   "metadata": {
    "tags": []
   },
   "outputs": [],
   "source": [
    "test.add_devices_list(blueprint = 'csic_station', devices_list = ['43171002', '43148003', '08019043', '08019044', '08019004'])"
   ]
  },
  {
   "cell_type": "code",
   "execution_count": null,
   "metadata": {
    "tags": []
   },
   "outputs": [],
   "source": [
    "test.create(force = True)"
   ]
  },
  {
   "cell_type": "markdown",
   "metadata": {},
   "source": [
    "### Load"
   ]
  },
  {
   "cell_type": "code",
   "execution_count": null,
   "metadata": {
    "scrolled": true,
    "tags": []
   },
   "outputs": [],
   "source": [
    "test.load(options = {'min_date': '2021-05-28'})"
   ]
  },
  {
   "cell_type": "code",
   "execution_count": null,
   "metadata": {},
   "outputs": [],
   "source": [
    "print (\"did = '43171002' Vila-seca (Suburban background)\")\n",
    "print (\"did = '43148003' Tarragona (Suburban industrial)\")\n",
    "print (\"did = '08019043' Barcelona Eixample (Urban Traffic)\")\n",
    "print (\"did = '08019044' Barcelona Gracia (Urban Traffic)\")\n",
    "print (\"did = '08019004' Barcelona Poblenou (Urban Background)\")"
   ]
  },
  {
   "cell_type": "code",
   "execution_count": null,
   "metadata": {},
   "outputs": [],
   "source": [
    "metric = {f'SCD30_CO2_COR': {'process': 'poly_ts',\n",
    "                           'kwargs': {'channels': ['SCD30_CO2'],\n",
    "                                      'coefficients': [1],\n",
    "                                      'extra_term': 100}\n",
    "                        }}\n",
    "\n",
    "test.devices['14133'].add_metric(metric)"
   ]
  },
  {
   "cell_type": "code",
   "execution_count": null,
   "metadata": {},
   "outputs": [],
   "source": [
    "test.devices['14133'].process()"
   ]
  },
  {
   "cell_type": "markdown",
   "metadata": {},
   "source": [
    "### DadesObertes Sources"
   ]
  },
  {
   "cell_type": "code",
   "execution_count": null,
   "metadata": {},
   "outputs": [],
   "source": [
    "from scdata.io.device_api import DadesObertesApiDevice"
   ]
  },
  {
   "cell_type": "code",
   "execution_count": null,
   "metadata": {},
   "outputs": [],
   "source": [
    "# Barcelona stations\n",
    "stations = DadesObertesApiDevice.get_world_map(full = True)\n",
    "stations"
   ]
  },
  {
   "cell_type": "code",
   "execution_count": null,
   "metadata": {},
   "outputs": [],
   "source": [
    "list(set(list(stations['contaminant'])))"
   ]
  },
  {
   "cell_type": "code",
   "execution_count": null,
   "metadata": {},
   "outputs": [],
   "source": [
    "stations[((stations['contaminant'] == 'PM1') | (stations['contaminant'] == 'PM2.5'))]"
   ]
  },
  {
   "cell_type": "code",
   "execution_count": null,
   "metadata": {
    "tags": []
   },
   "outputs": [],
   "source": [
    "stations[(stations['municipi'] == 'Barcelona') & ((stations['contaminant'] == 'PM10') | (stations['contaminant'] == 'CO2'))]"
   ]
  },
  {
   "cell_type": "code",
   "execution_count": null,
   "metadata": {
    "tags": []
   },
   "outputs": [],
   "source": [
    "stations[(stations['contaminant'] == 'PM2.5') | (stations['contaminant'] == 'PM1') | (stations['contaminant'] == 'CO2')]"
   ]
  },
  {
   "cell_type": "code",
   "execution_count": null,
   "metadata": {},
   "outputs": [],
   "source": [
    "print (list(set(list(stations[(stations['contaminant'] == 'PM2.5') | (stations['contaminant'] == 'PM1') | (stations['contaminant'] == 'CO2')].index))))\n",
    "print (list(set(list(stations[(stations['contaminant'] == 'PM2.5') | (stations['contaminant'] == 'PM1') | (stations['contaminant'] == 'CO2')].contaminant))))\n",
    "print (list(set(list(stations[(stations['contaminant'] == 'PM2.5') | (stations['contaminant'] == 'PM1') | (stations['contaminant'] == 'CO2')].municipi))))\n",
    "print (list(set(list(stations[(stations['contaminant'] == 'PM2.5') | (stations['contaminant'] == 'PM1') | (stations['contaminant'] == 'CO2')].tipus_estacio))))"
   ]
  },
  {
   "cell_type": "code",
   "execution_count": null,
   "metadata": {},
   "outputs": [],
   "source": [
    "devicetr = DadesObertesApiDevice(43148003)"
   ]
  },
  {
   "cell_type": "code",
   "execution_count": null,
   "metadata": {},
   "outputs": [],
   "source": [
    "devicetr.get_device_sensors()"
   ]
  },
  {
   "cell_type": "markdown",
   "metadata": {},
   "source": [
    "### TS CO2 Both"
   ]
  },
  {
   "cell_type": "code",
   "execution_count": null,
   "metadata": {},
   "outputs": [],
   "source": [
    "traces = {\n",
    "            \"1\": {\"devices\": [\"14129\"],\n",
    "                  \"channel\": [\"SCD30_CO2\"],\n",
    "                  \"subplot\": 1},\n",
    "            \"2\": {\"devices\": [\"14133\"],\n",
    "                  \"channel\": [\"SCD30_CO2_COR\"],\n",
    "                  \"subplot\": 1}    \n",
    "        }\n",
    "options = {'frequency': '10Min'}\n",
    "formatting = {'width': 1200, 'title': 'CO2', 'ylabel': {1: 'CO2 (ppm)'}}\n",
    "fco2ts = test.ts_uplot(traces=traces, options = options, formatting = formatting)\n",
    "fco2ts"
   ]
  },
  {
   "cell_type": "markdown",
   "metadata": {},
   "source": [
    "### TS Noise Both"
   ]
  },
  {
   "cell_type": "code",
   "execution_count": null,
   "metadata": {},
   "outputs": [],
   "source": [
    "traces = {\n",
    "            \"1\": {\"devices\": \"all\",\n",
    "                  \"channel\": [\"NOISE_A\"],\n",
    "                  \"subplot\": 1}\n",
    "        }\n",
    "options = {'frequency': '10Min'}\n",
    "formatting = {'width': 1200, 'title': 'Noise (dBA)', 'ylabel': {1: 'Noise (dBA)'}, 'style': 'grayscale'}\n",
    "fnoisezoom = test.ts_uplot(traces=traces, options = options, formatting = formatting);\n",
    "fnoisezoom"
   ]
  },
  {
   "cell_type": "code",
   "execution_count": null,
   "metadata": {
    "tags": []
   },
   "outputs": [],
   "source": [
    "traces = {\n",
    "            \"1\": {\"devices\": \"all\",\n",
    "                  \"channel\": [\"BATT\"],\n",
    "                  \"subplot\": 1}\n",
    "        }\n",
    "options = {'frequency': '5Min'}\n",
    "formatting = {'width': 1000}\n",
    "test.ts_uplot(traces=traces, options = options, formatting = formatting)"
   ]
  },
  {
   "cell_type": "markdown",
   "metadata": {
    "tags": [],
    "toc-hr-collapsed": true
   },
   "source": [
    "### TS TEMP Both"
   ]
  },
  {
   "cell_type": "code",
   "execution_count": null,
   "metadata": {},
   "outputs": [],
   "source": [
    "traces = {\n",
    "            \"1\": {\"devices\": \"all\",\n",
    "                  \"channel\": [\"TEMP\"],\n",
    "                  \"subplot\": 1}\n",
    "        }\n",
    "options = {'frequency': '5Min'}\n",
    "formatting = {'width': 1200, 'title': 'Temperatura', 'ylabel': {1: 'Temperatura (ºC)'}}\n",
    "ftempts = test.ts_uplot(traces=traces, options = options, formatting = formatting)\n",
    "ftempts"
   ]
  },
  {
   "cell_type": "code",
   "execution_count": null,
   "metadata": {},
   "outputs": [],
   "source": [
    "traces = {\n",
    "            \"1\": {\"devices\": \"all\",\n",
    "                  \"channel\": [\"HUM\"],\n",
    "                  \"subplot\": 1}\n",
    "        }\n",
    "options = {'frequency': '5Min'}\n",
    "formatting = {'width': 1200, 'title': 'Humedad', 'ylabel': {1: 'Humedad relativa (%rh)'}}\n",
    "fhumts = test.ts_uplot(traces=traces, options = options, formatting = formatting)\n",
    "fhumts"
   ]
  },
  {
   "cell_type": "markdown",
   "metadata": {
    "tags": [],
    "toc-hr-collapsed": true
   },
   "source": [
    "#### Temperature Max (14133)"
   ]
  },
  {
   "cell_type": "code",
   "execution_count": null,
   "metadata": {},
   "outputs": [],
   "source": [
    "from scdata.test.plot.plot_tools import prepare_data, groupby_session\n",
    "\n",
    "traces = {\n",
    "            \"1\": {\"devices\": \"14133\",\n",
    "                  \"channel\": \"TEMP\"} \n",
    "        }\n",
    "\n",
    "options = {\"frequency\": '10Min', \"clean_na\": None}\n",
    "\n",
    "formatting = {\"frequency_hours\": 24, 'session': '1D'\n",
    "              }\n",
    "\n",
    "# Get dataframe\n",
    "df, _ = prepare_data(test, traces, options)\n",
    "gskwags = {'frequency_hours': formatting['frequency_hours']}\n",
    "\n",
    "dfgb, _, _, _ = groupby_session(df, **gskwags)\n",
    "\n",
    "df = dfgb.pivot(columns='session').resample('1D').max()\n",
    "df = df.resample('2D').mean()\n",
    "df.index = df.index.strftime('%Y-%m-%d')\n",
    "figtempmax = df.plot.bar(figsize=(20,8), fontsize=14);\n",
    "figtempmax.set_ylabel('Temperatura (ºC)', fontsize=16);\n",
    "\n",
    "figtempmax.set_xlabel(None);\n",
    "figtempmax.figure.suptitle('Temperatura (ºC) - 24h max', fontsize = 14);\n",
    "figtempmax.legend(['Temperatura - XYZ']);\n",
    "figtempmax.figure.set_facecolor('white')\n",
    "figtempmax"
   ]
  },
  {
   "cell_type": "code",
   "execution_count": null,
   "metadata": {},
   "outputs": [],
   "source": [
    "traces = {\n",
    "            \"1\": {\"devices\": \"all\",\n",
    "                  \"channel\": [\"PRESS\"],\n",
    "                  \"subplot\": 1}\n",
    "        }\n",
    "options = {'frequency': '5Min'}\n",
    "formatting = {'width': 1000}\n",
    "test.ts_uplot(traces=traces, options = options, formatting = formatting)"
   ]
  },
  {
   "cell_type": "markdown",
   "metadata": {},
   "source": [
    "### TS PM1 Both"
   ]
  },
  {
   "cell_type": "code",
   "execution_count": null,
   "metadata": {},
   "outputs": [],
   "source": [
    "traces = {\n",
    "            \"1\": {\"devices\": \"all\",\n",
    "                  \"channel\": [\"PM_1\"],\n",
    "                  \"subplot\": 1}\n",
    "        }\n",
    "options = {'frequency': '1H'}\n",
    "formatting = {'width': 1200, 'title': 'PM1 (ug/m3)', 'ylabel': {1: 'PM1 (ug/m3)'}, 'style': 'grayscale'}\n",
    "fpm1ts = test.ts_uplot(traces=traces, options = options, formatting = formatting);\n",
    "fpm1ts"
   ]
  },
  {
   "cell_type": "markdown",
   "metadata": {},
   "source": [
    "### TS PM2.5 Both"
   ]
  },
  {
   "cell_type": "code",
   "execution_count": null,
   "metadata": {},
   "outputs": [],
   "source": [
    "traces = {\n",
    "            \"1\": {\"devices\": \"all\",\n",
    "                  \"channel\": [\"PM_25\"],\n",
    "                  \"subplot\": 1}\n",
    "        }\n",
    "options = {'frequency': '1H'}\n",
    "formatting = {'width': 1200, 'title': 'PM25 (ug/m3)', 'ylabel': {1: 'PM25 (ug/m3)'}, 'style': 'grayscale'}\n",
    "fpm25zoom = test.ts_uplot(traces=traces, options = options, formatting = formatting);\n",
    "fpm25zoom"
   ]
  },
  {
   "cell_type": "markdown",
   "metadata": {},
   "source": [
    "### TS PM10 Both"
   ]
  },
  {
   "cell_type": "code",
   "execution_count": null,
   "metadata": {},
   "outputs": [],
   "source": [
    "traces = {\n",
    "            \"1\": {\"devices\": \"all\",\n",
    "                  \"channel\": [\"PM_10\"],\n",
    "                  \"subplot\": 1}\n",
    "        }\n",
    "options = {'frequency': '1H'}\n",
    "formatting = {'width': 1200, 'title': 'PM10 (ug/m3)', 'ylabel': {1: 'PM10 (ug/m3)'}, 'style': 'grayscale'}\n",
    "fpm10ts = test.ts_uplot(traces=traces, options = options, formatting = formatting);\n",
    "fpm10ts"
   ]
  },
  {
   "cell_type": "markdown",
   "metadata": {},
   "source": [
    "### Noise 14133 (XYZ)"
   ]
  },
  {
   "cell_type": "markdown",
   "metadata": {},
   "source": [
    "#### Daily distribution"
   ]
  },
  {
   "cell_type": "code",
   "execution_count": null,
   "metadata": {},
   "outputs": [],
   "source": [
    "traces = {\n",
    "            \"1\": {\"devices\": \"14133\",\n",
    "                  \"channel\": \"NOISE_A\"} \n",
    "        }\n",
    "\n",
    "options = {\n",
    "            \"show\": True,\n",
    "            \"frequency\": '1Min',\n",
    "            \"clean_na\": None,\n",
    "            #\"max_date\": '2020-11-20',\n",
    "            #\"min_date\": '2020-02-08'\n",
    "            }\n",
    "\n",
    "formatting = {\"title\": \"Distribución diaria de ruido\",\n",
    "              \"grid\": True,\n",
    "              \"legend\": True,\n",
    "              \"fontsize\": 14,\n",
    "              \"title_fontsize\": 16,\n",
    "              \"height\": 10,\n",
    "              \"suptitle_factor\": 0.92,\n",
    "              \"ylabel\": \"Noise (dBA)\"\n",
    "              }\n",
    "\n",
    "fnoiseday = test.box_plot(traces = traces, options = options, formatting = formatting);"
   ]
  },
  {
   "cell_type": "markdown",
   "metadata": {},
   "source": [
    "#### In group per 6h"
   ]
  },
  {
   "cell_type": "code",
   "execution_count": null,
   "metadata": {},
   "outputs": [],
   "source": [
    "from scdata.test.plot.plot_tools import prepare_data, groupby_session\n",
    "\n",
    "traces = {\n",
    "            \"1\": {\"devices\": \"14133\",\n",
    "                  \"channel\": \"NOISE_A\"} \n",
    "        }\n",
    "\n",
    "options = {\"clean_na\": None,\"frequency\": '1Min'}\n",
    "\n",
    "formatting = {\"frequency_hours\": 6, 'session': '1D'\n",
    "              }\n",
    "\n",
    "# Get dataframe\n",
    "df, _ = prepare_data(test, traces, options)\n",
    "gskwags = {'frequency_hours': formatting['frequency_hours']}\n",
    "\n",
    "dfgb, _, _, _ = groupby_session(df, **gskwags)"
   ]
  },
  {
   "cell_type": "code",
   "execution_count": null,
   "metadata": {},
   "outputs": [],
   "source": [
    "dfgb.pivot(columns='session').resample(formatting['session']).mean().mean()"
   ]
  },
  {
   "cell_type": "markdown",
   "metadata": {},
   "source": [
    "#### Events analysis"
   ]
  },
  {
   "cell_type": "code",
   "execution_count": null,
   "metadata": {
    "tags": []
   },
   "outputs": [],
   "source": [
    "traces = {\n",
    "            \"1\": {\"devices\": \"14133\",\n",
    "                  \"channel\": \"NOISE_A\"} \n",
    "        }\n",
    "\n",
    "options = {\n",
    "            \"show\": True,\n",
    "            \"frequency\": '1Min',\n",
    "            \"clean_na\": None,\n",
    "            #\"max_date\": '2020-11-20',\n",
    "            #\"min_date\": '2020-02-08'\n",
    "            }\n",
    "\n",
    "formatting = {\"title\": \"Distribución Ruido \",\n",
    "              \"grid\": True,\n",
    "              \"legend\": True,\n",
    "              \"height\": 10,\n",
    "              \"suptitle_factor\": 0.92,\n",
    "              \"periods\": {\"dates\": ['2021-06-22', '2021-06-25', '2021-06-28'],\n",
    "                          \"labels\": [\"San Juan\", \"Normal days\"]\n",
    "                         },\n",
    "              }\n",
    "\n",
    "fnoisesj = test.box_plot(traces = traces, options = options, formatting = formatting);"
   ]
  },
  {
   "cell_type": "code",
   "execution_count": null,
   "metadata": {},
   "outputs": [],
   "source": [
    "traces = {\n",
    "            \"1\": {\"devices\": \"14129\",\n",
    "                  \"channel\": \"NOISE_A\"} \n",
    "        }\n",
    "\n",
    "options = {\n",
    "            \"show\": True,\n",
    "            \"frequency\": '1Min',\n",
    "            \"clean_na\": None,\n",
    "            #\"max_date\": '2020-11-20',\n",
    "            #\"min_date\": '2020-02-08'\n",
    "            }\n",
    "\n",
    "formatting = {\"title\": \"Distribución ruido - Eventos\",\n",
    "              \"grid\": True,\n",
    "              \"legend\": True,\n",
    "              \"height\": 10,\n",
    "              \"suptitle_factor\": 0.92,\n",
    "              \"periods\": {\"dates\": ['2021-06-23', '2021-06-24', None],\n",
    "                          \"labels\": [\"San Juan\", \"Normal days\"]\n",
    "                         },\n",
    "              }\n",
    "\n",
    "fnoisesj = test.box_plot(traces = traces, options = options, formatting = formatting);"
   ]
  },
  {
   "cell_type": "code",
   "execution_count": null,
   "metadata": {},
   "outputs": [],
   "source": [
    "traces = {\n",
    "            \"1\": {\"devices\": \"all\",\n",
    "                  \"channel\": [\"NOISE_A\"],\n",
    "                  \"subplot\": 1}\n",
    "        }\n",
    "options = {'frequency': '30Min', 'min_date': '2021-06-22', 'max_date': '2021-06-26', 'show': False}\n",
    "formatting = {'width': 18, 'title': 'Rudio - Análisis en Festividad de San Juan', 'ylabel': {1: 'Ruido (dBA)'}, 'style': 'grayscale', 'fontsize': 14, 'yrange': {1: [25, 100]}}\n",
    "fnoisesj = test.ts_plot(traces=traces, options = options, formatting = formatting);\n",
    "fnoisesj.set_facecolor('white');"
   ]
  },
  {
   "cell_type": "code",
   "execution_count": null,
   "metadata": {},
   "outputs": [],
   "source": [
    "traces = {\n",
    "            \"1\": {\"devices\": \"all\",\n",
    "                  \"channel\": [\"NOISE_A\"],\n",
    "                  \"subplot\": 1}\n",
    "        }\n",
    "options = {'frequency': '30Min', 'min_date': '2021-06-29', 'max_date': '2021-07-09', 'show': False}\n",
    "formatting = {'width': 18, 'title': 'Rudio - Análisis en otros eventos', 'ylabel': {1: 'Ruido (dBA)'}, 'style': 'grayscale', 'fontsize': 14, 'yrange': {1: [25, 100]}}\n",
    "fnoiseevent = test.ts_plot(traces=traces, options = options, formatting = formatting);\n",
    "fnoiseevent.set_facecolor('white');"
   ]
  },
  {
   "cell_type": "code",
   "execution_count": null,
   "metadata": {},
   "outputs": [],
   "source": [
    "from scdata.test.plot.plot_tools import prepare_data, groupby_session\n",
    "\n",
    "traces = {\n",
    "            \"1\": {\"devices\": \"14133\",\n",
    "                  \"channel\": \"NOISE_A\"} \n",
    "        }\n",
    "\n",
    "options = {\"frequency\": '10Min', \"clean_na\": None}\n",
    "\n",
    "formatting = {\"frequency_hours\": 24, 'session': '1D'\n",
    "              }\n",
    "\n",
    "# Get dataframe\n",
    "df, _ = prepare_data(test, traces, options)\n",
    "gskwags = {'frequency_hours': formatting['frequency_hours']}\n",
    "\n",
    "dfgb, _, _, _ = groupby_session(df, **gskwags)\n",
    "\n",
    "df = dfgb.pivot(columns='session').resample('1D').max()\n",
    "df = df.resample('2D').mean()\n",
    "df.index = df.index.strftime('%Y-%m-%d')\n",
    "fignoisemax = df.plot.bar(figsize=(20,8), fontsize=14);\n",
    "fignoisemax.set_ylabel('Ruido (dBA)', fontsize=16);\n",
    "\n",
    "fignoisemax.set_xlabel(None);\n",
    "fignoisemax.figure.suptitle('Ruido (dBA) - 24h max', fontsize = 14);\n",
    "fignoisemax.legend(['Ruido - XYZ']);\n",
    "fignoisemax.figure.set_facecolor('white')\n",
    "fignoisemax"
   ]
  },
  {
   "cell_type": "markdown",
   "metadata": {},
   "source": [
    "### PM2.5 14129 (entrada)"
   ]
  },
  {
   "cell_type": "markdown",
   "metadata": {},
   "source": [
    "#### Daily distribution"
   ]
  },
  {
   "cell_type": "code",
   "execution_count": null,
   "metadata": {},
   "outputs": [],
   "source": [
    "traces = {\n",
    "            \"1\": {\"devices\": \"14129\",\n",
    "                  \"channel\": \"PM_25\"} \n",
    "        }\n",
    "\n",
    "options = {\n",
    "            \"show\": True,\n",
    "            \"frequency\": '1Min',\n",
    "            \"clean_na\": None,\n",
    "            #\"max_date\": '2020-11-20',\n",
    "            #\"min_date\": '2020-02-08'\n",
    "            }\n",
    "\n",
    "formatting = {\"title\": \"PM1 Distribution\",\n",
    "              \"grid\": True,\n",
    "              \"legend\": True,\n",
    "              \"height\": 10,\n",
    "              \"suptitle_factor\": 0.92\n",
    "              }\n",
    "\n",
    "fpmday = test.box_plot(traces = traces, options = options, formatting = formatting);"
   ]
  },
  {
   "cell_type": "markdown",
   "metadata": {},
   "source": [
    "#### Events analysis"
   ]
  },
  {
   "cell_type": "code",
   "execution_count": null,
   "metadata": {},
   "outputs": [],
   "source": [
    "traces = {\n",
    "            \"1\": {\"devices\": \"all\",\n",
    "                  \"channel\": [\"PM_25\"],\n",
    "                  \"subplot\": 1}\n",
    "        }\n",
    "options = {'frequency': '1H', 'min_date': '2021-06-22', 'max_date': '2021-06-26', 'show': False}\n",
    "formatting = {'width': 18, 'title': 'PM25 (ug/m3) - Análisis en Festividad de San Juan', 'ylabel': {1: 'PM25 (ug/m3)'}, 'style': 'grayscale', 'fontsize': 14}\n",
    "fpm25sj = test.ts_plot(traces=traces, options = options, formatting = formatting);\n",
    "fpm25sj.set_facecolor('white');"
   ]
  },
  {
   "cell_type": "code",
   "execution_count": null,
   "metadata": {},
   "outputs": [],
   "source": [
    "traces = {\n",
    "            \"1\": {\"devices\": \"14129\",\n",
    "                  \"channel\": \"PM_25\"} \n",
    "        }\n",
    "\n",
    "options = {\n",
    "            \"show\": True,\n",
    "            \"frequency\": '1Min',\n",
    "            \"clean_na\": None,\n",
    "            #\"max_date\": '2020-11-20',\n",
    "            #\"min_date\": '2020-02-08'\n",
    "            }\n",
    "\n",
    "formatting = {\"title\": \"PM1 Distribution\",\n",
    "              \"grid\": True,\n",
    "              \"legend\": True,\n",
    "              \"height\": 10,\n",
    "              \"suptitle_factor\": 0.92,\n",
    "              \"periods\": {\"dates\": ['2021-06-23', '2021-06-24', None],\n",
    "                          \"labels\": [\"San Juan\", \"Normal days\"]\n",
    "                         },\n",
    "              }\n",
    "\n",
    "fpmsj = test.box_plot(traces = traces, options = options, formatting = formatting);"
   ]
  },
  {
   "cell_type": "markdown",
   "metadata": {},
   "source": [
    "#### In group per day"
   ]
  },
  {
   "cell_type": "code",
   "execution_count": null,
   "metadata": {},
   "outputs": [],
   "source": [
    "from scdata.test.plot.plot_tools import prepare_data, groupby_session\n",
    "\n",
    "traces = {\n",
    "            \"1\": {\"devices\": \"14129\",\n",
    "                  \"channel\": \"PM_25\"} \n",
    "        }\n",
    "\n",
    "options = {\"frequency\": '1Min', \"clean_na\": None}\n",
    "\n",
    "formatting = {\"frequency_hours\": 24, 'session': '1D'\n",
    "              }\n",
    "\n",
    "# Get dataframe\n",
    "df, _ = prepare_data(test, traces, options)\n",
    "gskwags = {'frequency_hours': formatting['frequency_hours']}\n",
    "\n",
    "dfgb, _, _, _ = groupby_session(df, **gskwags)"
   ]
  },
  {
   "cell_type": "code",
   "execution_count": null,
   "metadata": {},
   "outputs": [],
   "source": [
    "df = dfgb.pivot(columns='session').resample('1D').mean().loc['2021-06-22':'2021-06-28', :]['PM_25_14129']\n",
    "df.index = df.index.strftime('%Y-%m-%d')\n",
    "figpm25avgsj = df.plot.bar(figsize=(20,8), fontsize=14);\n",
    "figpm25avgsj.set_ylabel('PM 2.5 (ug/m3)', fontsize=16);\n",
    "figpm25avgsj.set_ylim([0, 50])\n",
    "figpm25avgsj.set_xlabel(None);\n",
    "figpm25avgsj.figure.suptitle('PM 2.5 (ug/m3) - promedio de 24h durante festividad de San Juan', fontsize = 16);\n",
    "figpm25avgsj.legend(['PM 2.5 - XYZ'], frameon=True);\n",
    "figpm25avgsj.figure.set_facecolor('white')\n",
    "figpm25avgsj"
   ]
  },
  {
   "cell_type": "code",
   "execution_count": null,
   "metadata": {},
   "outputs": [],
   "source": [
    "traces = {\n",
    "            \"1\": {\"devices\": [\"14129\", \"14133\"],\n",
    "                  \"channel\": [\"PM_25\"],\n",
    "                  \"subplot\": 1}\n",
    "        }\n",
    "options = {'frequency': '1D', 'show': False}\n",
    "formatting = {'width': 18, 'title': 'PM25 (ug/m3)', 'ylabel': {1: 'PM25 (ug/m3)'}, 'style': 'grayscale', 'fontsize': 14, 'yrange': {1: [0, 90]}}\n",
    "figpm25avg24 = test.ts_plot(traces=traces, options = options, formatting = formatting);\n",
    "figpm25avg24.set_facecolor('white');"
   ]
  },
  {
   "cell_type": "markdown",
   "metadata": {},
   "source": [
    "### CO2 14129 (entrada)"
   ]
  },
  {
   "cell_type": "markdown",
   "metadata": {},
   "source": [
    "#### Daily distribution"
   ]
  },
  {
   "cell_type": "code",
   "execution_count": null,
   "metadata": {},
   "outputs": [],
   "source": [
    "traces = {\n",
    "            \"1\": {\"devices\": \"14129\",\n",
    "                  \"channel\": \"SCD30_CO2\"} \n",
    "        }\n",
    "\n",
    "options = {\n",
    "            \"show\": True,\n",
    "            \"frequency\": '1Min',\n",
    "            \"clean_na\": None,\n",
    "            #\"max_date\": '2020-11-20',\n",
    "            #\"min_date\": '2020-02-08'\n",
    "            }\n",
    "\n",
    "formatting = {\"title\": \"Distribución diaria de CO2 (exterior)\",\n",
    "              \"grid\": True,\n",
    "              \"legend\": True,\n",
    "              \"fontsize\": 14,\n",
    "              \"title_fontsize\": 16,\n",
    "              \"height\": 10,\n",
    "              \"suptitle_factor\": 0.92,\n",
    "              \"ylabel\": \"Noise (dBA)\"\n",
    "              }\n",
    "\n",
    "fco2day = test.box_plot(traces = traces, options = options, formatting = formatting);"
   ]
  },
  {
   "cell_type": "markdown",
   "metadata": {},
   "source": [
    "#### Events analysis"
   ]
  },
  {
   "cell_type": "code",
   "execution_count": null,
   "metadata": {},
   "outputs": [],
   "source": [
    "traces = {\n",
    "            \"1\": {\"devices\": [\"14129\"],\n",
    "                  \"channel\": [\"SCD30_CO2\"],\n",
    "                  \"subplot\": 1},\n",
    "            \"2\": {\"devices\": [\"14133\"],\n",
    "                  \"channel\": [\"SCD30_CO2_COR\"],\n",
    "                  \"subplot\": 1\n",
    "                 }\n",
    "        }\n",
    "options = {'frequency': '30Min', 'min_date': '2021-06-22', 'max_date': '2021-06-26', 'show': False}\n",
    "formatting = {'width': 18, 'title': 'CO2 - Análisis en Festividad de San Juan', 'ylabel': {1: 'CO2 (ppm)'}, 'style': 'grayscale', 'fontsize': 14}\n",
    "fco2sj = test.ts_plot(traces=traces, options = options, formatting = formatting);\n",
    "fco2sj.set_facecolor('white');"
   ]
  },
  {
   "cell_type": "code",
   "execution_count": null,
   "metadata": {},
   "outputs": [],
   "source": [
    "traces = {\n",
    "            \"1\": {\"devices\": [\"14129\"],\n",
    "                  \"channel\": [\"SCD30_CO2\"],\n",
    "                  \"subplot\": 1},\n",
    "            \"2\": {\"devices\": [\"14133\"],\n",
    "                  \"channel\": [\"SCD30_CO2_COR\"],\n",
    "                  \"subplot\": 1\n",
    "                 }\n",
    "        }\n",
    "options = {'frequency': '30Min', 'min_date': '2021-06-29', 'max_date': '2021-07-09', 'show': False}\n",
    "formatting = {'width': 18, 'title': 'CO2 - Análisis en otros eventos', 'ylabel': {1: 'CO2 (ppm)'}, 'style': 'grayscale', 'fontsize': 14}\n",
    "fco2event = test.ts_plot(traces=traces, options = options, formatting = formatting);\n",
    "fco2event.set_facecolor('white');"
   ]
  },
  {
   "cell_type": "markdown",
   "metadata": {
    "tags": [],
    "toc-hr-collapsed": true
   },
   "source": [
    "## Metrics"
   ]
  },
  {
   "cell_type": "markdown",
   "metadata": {},
   "source": [
    "### PM10 AVG"
   ]
  },
  {
   "cell_type": "code",
   "execution_count": null,
   "metadata": {},
   "outputs": [],
   "source": [
    "for device in test.devices:\n",
    "    print (f\"{device} PM10 avg: {test.devices[device].readings['PM_10'].mean()}\")"
   ]
  },
  {
   "cell_type": "markdown",
   "metadata": {},
   "source": [
    "### PM2.5 AVG"
   ]
  },
  {
   "cell_type": "code",
   "execution_count": null,
   "metadata": {},
   "outputs": [],
   "source": [
    "for device in test.devices:\n",
    "    if 'PM_25' not in test.devices[device].readings: continue\n",
    "    print (f\"{device} PM25 avg: {test.devices[device].readings['PM_25'].mean()}\")"
   ]
  },
  {
   "cell_type": "markdown",
   "metadata": {},
   "source": [
    "### PM1 AVG"
   ]
  },
  {
   "cell_type": "code",
   "execution_count": null,
   "metadata": {},
   "outputs": [],
   "source": [
    "for device in test.devices:\n",
    "    if 'PM_1' not in test.devices[device].readings: continue\n",
    "    print (f\"{device} PM1 avg: {test.devices[device].readings['PM_1'].mean()}\")"
   ]
  },
  {
   "cell_type": "markdown",
   "metadata": {},
   "source": [
    "### CO2 AVG"
   ]
  },
  {
   "cell_type": "code",
   "execution_count": null,
   "metadata": {},
   "outputs": [],
   "source": [
    "for device in test.devices:\n",
    "    if 'SCD30_CO2' not in test.devices[device].readings: continue\n",
    "    print (f\"{device} SCD30_CO2 avg: {test.devices[device].readings['SCD30_CO2'].mean()}\")\n",
    "    if 'SCD30_CO2_COR' not in test.devices[device].readings: continue\n",
    "    print (f\"{device} SCD30_CO2_COR avg: {test.devices[device].readings['SCD30_CO2_COR'].mean()}\")    "
   ]
  },
  {
   "cell_type": "markdown",
   "metadata": {},
   "source": [
    "### NOISE AVG"
   ]
  },
  {
   "cell_type": "code",
   "execution_count": null,
   "metadata": {},
   "outputs": [],
   "source": [
    "for device in test.devices:\n",
    "    if 'NOISE_A' not in test.devices[device].readings: continue\n",
    "    print (f\"{device} NOISE avg: {test.devices[device].readings['NOISE_A'].mean()}\")"
   ]
  },
  {
   "cell_type": "code",
   "execution_count": null,
   "metadata": {},
   "outputs": [],
   "source": [
    "for device in test.devices:\n",
    "    if 'NOISE_A' not in test.devices[device].readings: continue\n",
    "    print (f\"{device} NOISE std: {test.devices[device].readings['NOISE_A'].std()}\")"
   ]
  },
  {
   "cell_type": "markdown",
   "metadata": {
    "tags": [],
    "toc-hr-collapsed": true
   },
   "source": [
    "## Report"
   ]
  },
  {
   "cell_type": "code",
   "execution_count": null,
   "metadata": {},
   "outputs": [],
   "source": [
    "test.descriptor['author'] = 'Óscar González'\n",
    "test.descriptor['project'] = 'Fundación Palo Alto'\n",
    "test.descriptor['date'] = 'De 28-05-2021 a 01-10-2021'\n",
    "test.descriptor['type_test'] = 'Exterior - Alimentación a Panel Solar'\n",
    "test.descriptor['comment'] = 'Primer análisis de cuatro meses (verano 2021)'"
   ]
  },
  {
   "cell_type": "code",
   "execution_count": null,
   "metadata": {},
   "outputs": [],
   "source": [
    "test.content = {}"
   ]
  },
  {
   "cell_type": "code",
   "execution_count": null,
   "metadata": {},
   "outputs": [],
   "source": [
    "text = '''\n",
    " Este análisis realiza la comparativa del periodo de medidas desde el 28/05/2021 hasta el 01/10/2021 como primer tramo\n",
    " de dos unidades de medición de calidad de aire en el recinto de Palo Alto. Las unidades cuentan con medidores de PM (Partículas en suspensión), \n",
    " CO2, ruido, temperatura, humedad y presión barométrica. El primero de ellos se sitúa en la entrada del recinto (14129), \n",
    " mientras que el segundo se encuentra en el lateral de la Nave XYZ (14133). Ambos sensores se encuentran a una altura de aproximadamente \n",
    " 3m y están alimentados mediante panel solar.\n",
    " <br>\n",
    " <br>\n",
    " Adicionalmente, se añaden al análisis estaciones de la Agencia de Salud Pública y la Generalitat de Cataluña, situadas en zonas de \n",
    " ciudad tales como el Eixample (estación urbana de tráfico), Gracia (estación urbana de tráfico), Poblenou (estación urbana de fondo), \n",
    " Vila-Seca (estación suburbana de fondo) y Tarragona (estación suburbana industrial).\n",
    " <br>\n",
    " <br>\n",
    " La estaciones de Vila-Seca y Tarragona han sido seleccionadas únicamente como referencia para las \n",
    " comparaciones de las medidas de PM1 y PM2.5, ya que son las únicas comparables con las medidas de referencia\n",
    " de los Smart Citizen Kits instalados en Palo Alto. Ninguna estación de referencia cuenta con\n",
    " medidas de CO2 o ruido en exterior, por lo que esta comparativa se realiza a través de datos tabulados. Las medidas\n",
    " de PM10 no son utilizadas como referencia a pesar de encontrarse en todas las estaciones ya que el sensor\n",
    " de PM10 en el Smart Citizen Kit no presenta buena eficiencia en las medidas de este tamaño de partículas,\n",
    " por lo que no son comparables a las medidas oficiales.\n",
    " <br>\n",
    " <br>\n",
    " <strong>Importante</strong> notar que los sensores de PM del Smart Citizen Kit no utilizan el \n",
    " mismo principio de funcionamiento que los usados en los instrumentos de referencia, por lo que el \n",
    " análisis aquí realizado únicamente debe servir como referencia sin validez científica.\n",
    "'''\n",
    "\n",
    "test.add_content(title = 'Introducción', figure = None, text = text)"
   ]
  },
  {
   "cell_type": "code",
   "execution_count": null,
   "metadata": {},
   "outputs": [],
   "source": [
    "text = '''\n",
    " Los datos de ruido se encuentran representados en el gráfico inferior. Es posible <em>hacer zoom</em> en distintas partes del mismo\n",
    " para analizar más en detalle. \n",
    " <br>\n",
    " <br>\n",
    " El nivel de ruido medio de cada medidor es de:\n",
    " <br>\n",
    " <ul>\n",
    " <li><strong>14129 (entrada)</strong>: 42.2 (escala dBA)</li>\n",
    " <li><strong>14133 (XYZ)</strong>: 40.8 (escala dBA)</li>\n",
    " </ul>\n",
    " <br>\n",
    " Estos niveles de ruido, en nivel promedio, son similares a aquellos que se pueden encontrar en un espacio de oficina tranquilo o una biblioteca\n",
    " (<a href=\"https://noiseawareness.org/info-center/common-noise-levels/\">ref</a>). \n",
    "'''\n",
    "\n",
    "test.add_content(title = 'Análisis Datos de Ruido', iframe = fnoisezoom, text = text, show_title = True, force = True)"
   ]
  },
  {
   "cell_type": "code",
   "execution_count": null,
   "metadata": {},
   "outputs": [],
   "source": [
    "text = '''\n",
    " En el gráfico inferior se muestran datos de dispersión y comparativa día vs. noche en los datos de ruido del espacio para el sensor de la XYZ como ejemplo,\n",
    " aunque los datos son comparables en cada sensor. Debajo se muestran promedios de ruido en diferentes horarios:\n",
    " <ul>\n",
    " <li><strong>0am-6am</strong>: 33.0 (escala dBA)\n",
    " <li><strong>6am-12am</strong>: 41.1 (escala dBA)\n",
    " <li><strong>12pm-18pm</strong>: 46.5 (escala dBA)\n",
    " <li><strong>18pm-0am</strong>: 42.4 (escala dBA)\n",
    " </ul>\n",
    " Estos datos muestran una mayor actividad en la tarde, con valores más cercanos a los 50 dBA de media, aunque normalmente afectados en promedio por la presencia\n",
    " de eventos que ocurren en la tarde. Los valores nocturnos por el contrario son inferiores a 33 dBA, mostrando que la actividad de fondo del recinto es \n",
    " silenciosa, que denota ausencia de maquinaria, tráfico o similares.\n",
    "\n",
    "'''\n",
    "\n",
    "test.add_content(title = 'Datos intradiarios', figure = fnoiseday, text = text, show_title = False, force = True)"
   ]
  },
  {
   "cell_type": "code",
   "execution_count": null,
   "metadata": {},
   "outputs": [],
   "source": [
    "text = '''\n",
    "    Debajo se muestra el en ruido de los eventos (San Juan):\n",
    "'''\n",
    "test.add_content(title = 'Eventos - efecto ruido', figure = fnoisesj, text = text, show_title = False, force = True)"
   ]
  },
  {
   "cell_type": "code",
   "execution_count": null,
   "metadata": {},
   "outputs": [],
   "source": [
    "text = '''\n",
    "    Y en la figura inferior se muestran datos de ruido centrados en otros eventos, donde los máximos a los 90dBA:\n",
    "'''\n",
    "test.add_content(title = 'Eventos - efecto ruido (2)', figure = fnoiseevent, text = text, show_title = False, force = True)"
   ]
  },
  {
   "cell_type": "code",
   "execution_count": null,
   "metadata": {},
   "outputs": [],
   "source": [
    "text = '''\n",
    "    Debajo se muestra el ruido máximo promediado diario, con un valor valle cercano a los 50dBA, aunque superando en repetidas ocasiones valores de 80 dBA:\n",
    "'''\n",
    "test.add_content(title = 'Eventos - efecto ruido máximo', figure = fignoisemax.figure, text = text, show_title = False, force = True)"
   ]
  },
  {
   "cell_type": "code",
   "execution_count": null,
   "metadata": {},
   "outputs": [],
   "source": [
    "text = '''\n",
    " Los datos de PM2.5 (partículas en suspensión de tamaño menor a 2.5um o <em>fine particulate matter</em>) se encuentran representados en el gráfico inferior. Es posible _hacer zoom_ en distintas partes del mismo\n",
    " para analizar más en detalle. El nivel de PM2.5 medio de cada medidor es de:\n",
    " <br>\n",
    " <ul>\n",
    " <li><strong>14129 (entrada)</strong>: 6.3 (ug/m3)</li>\n",
    " <li><strong>14133 (XYZ)</strong>: 6.4 (ug/m3)</li>\n",
    " </ul>\n",
    " En comparación con los datos de un periodo similar, los datos son inferiores a aquellos encontrados incluso en estaciones de referencia en entornos <em>suburbanos</em>:\n",
    " <br>\n",
    " <ul>\n",
    " <li><strong>43148003 (Tarragona - Estación suburbana industrial)</strong>: 10.2 (ug/m3)</li>\n",
    " <li><strong>43171002 (Vila-seca - Estación suburbana de fondo)</strong>: 10.6 (ug/m3)</li>\n",
    " </ul>\n",
    " Estos niveles de PM25, en nivel promedio, son inferiores a aquellos que se pueden encontrar en zonas <em>suburbanas</em> de carácter rural, y aunque no haya indicadores \n",
    " de estos valores en zonas rurales o similares a un parque natural, los indicadores de la OMS (<a href=\"https://apps.who.int/iris/handle/10665/345329\">ref</a>) se satisfacen\n",
    " en valor promedio en Palo Alto, <strong>estando su valor por debajo de 10ug/m3 como valor recomendado</strong>.\n",
    "'''\n",
    "\n",
    "test.add_content(title = 'Análisis Datos de PM2.5', iframe = fpm25zoom, text = text, show_title = True, force = True)"
   ]
  },
  {
   "cell_type": "code",
   "execution_count": null,
   "metadata": {},
   "outputs": [],
   "source": [
    "text = '''\n",
    "    Adicionalmente, la media diaria nunca excede los valores máximos recomendados (25ug/m3 en el caso más restrictivo) como mostrado en la figura inferior:\n",
    "'''\n",
    "\n",
    "test.add_content(title = 'Análisis Datos de PM2.5 (2)', figure = figpm25avg24, text = text, show_title = False, force = True)"
   ]
  },
  {
   "cell_type": "code",
   "execution_count": null,
   "metadata": {},
   "outputs": [],
   "source": [
    "text = '''\n",
    "    Debajo se muestra el en PM2.5 de los eventos (San Juan):\n",
    "'''\n",
    "test.add_content(title = 'Eventos - efecto en PM2.5', figure = fpm25sj, text = text, show_title = False, force = True)"
   ]
  },
  {
   "cell_type": "code",
   "execution_count": null,
   "metadata": {},
   "outputs": [],
   "source": [
    "text = '''\n",
    "    Debajo se muestra el efecto promedio en PM2.5 por día de un evento como la Fiesta de San Juan:\n",
    "'''\n",
    "test.add_content(title = 'Eventos - efecto en PM2.5 (2)', figure = figpm25avgsj.figure, text = text, show_title = False, force = True)"
   ]
  },
  {
   "cell_type": "code",
   "execution_count": null,
   "metadata": {},
   "outputs": [],
   "source": [
    "text = '''\n",
    " Los datos de PM10 (partículas en suspensión de tamaño menor a 10um o <em>particulate matter</em>) se encuentran representados en el gráfico inferior. Es posible _hacer zoom_ en distintas partes del mismo\n",
    " para analizar más en detalle. <strong>Importante</strong>: los valores de PM10 medidos por el Smart Citizen Kit no son enteramente comparables a los\n",
    " medidos por las estaciones de referencia, ya que el sensor utilizado es conocido por \"subestimar\" las medidas. Igualmente aquí abajo se indican los valores \n",
    " promedios como referencia. El nivel de PM10 medio de cada medidor es de:\n",
    " <br>\n",
    " <ul>\n",
    " <li><strong>14129 (entrada)</strong>: 6.9 (ug/m3)</li>\n",
    " <li><strong>14133 (XYZ)</strong>: 7.5 (ug/m3)</li>\n",
    " </ul>\n",
    " En comparación con los datos de un periodo similar, los datos son inferiores a aquellos \n",
    " <br>\n",
    " <ul>\n",
    " <li><strong>43148003 (Tarragona - Estación suburbana industrial)</strong>: 23.3 (ug/m3)</li>\n",
    " <li><strong>43171002 (Vila-seca - Estación suburbana de fondo)</strong>: 18.8 (ug/m3)</li> \n",
    " <li><strong>08019004 (Barcelona Poblenou - Estación urbana de fondo)</strong>: 32.0 (ug/m3)</li>\n",
    " <li><strong>08019043 (Barcelona Example - Estación urbana de tráfico)</strong>: 27.9 (ug/m3)</li>\n",
    " <li><strong>08019044 (Barcelona Gracia - Estación urbana de tráfico)</strong>: 23.0 (ug/m3)</li>\n",
    " </ul>\n",
    "'''\n",
    "\n",
    "test.add_content(title = 'Análisis Datos de PM10', iframe = fpm10ts, text = text, show_title = True, force = True)"
   ]
  },
  {
   "cell_type": "code",
   "execution_count": null,
   "metadata": {},
   "outputs": [],
   "source": [
    "text = '''\n",
    " Los datos de PM1 (partículas en suspensión de tamaño menor a 1um) se encuentran representados en el gráfico inferior. Es posible <em>hacer zoom</em> en distintas partes del mismo\n",
    " para analizar más en detalle. El nivel de PM1 medio de cada medidor es de:\n",
    " <br>\n",
    " <ul>\n",
    " <li><strong>14129 (entrada)</strong>: 5.6 (ug/m3)</li>\n",
    " <li><strong>14133 (XYZ)</strong>: 5.3 (ug/m3)</li>\n",
    " </ul>\n",
    " En comparación con los datos de un periodo similar, los datos son comparables \n",
    " <br>\n",
    " <ul>\n",
    " <li><strong>43148003 (Tarragona - Estación suburbana industrial)</strong>: 6.00263435194942</li>\n",
    " <li><strong>43171002 (Vila-seca - Estación suburbana de fondo)</strong>: 7.28\n",
    " </ul>\n",
    " Estos niveles de PM1, en nivel promedio, son similares a aquellos que se pueden encontrar en un ambiente fuera de la ciudad, en zonas suburbanas. \n",
    " Es importante notar que estos valores no tienen un valor <em>regulado</em> por normativas o recomendaciones como las de la OMS, y es por este motivo que no\n",
    " se presentan datos referenciados al respecto.\n",
    "'''\n",
    "\n",
    "test.add_content(title = 'Análisis Datos de PM1', iframe = fpm1ts, text = text, show_title = True, force = True)"
   ]
  },
  {
   "cell_type": "code",
   "execution_count": null,
   "metadata": {},
   "outputs": [],
   "source": [
    "text = '''\n",
    " Los datos de CO2 (ppm) se encuentran representados en el gráfico inferior. Es posible <em>hacer zoom</em> en distintas partes del mismo\n",
    " para analizar más en detalle. El nivel de CO2 medio de cada medidor es de:\n",
    " <br>\n",
    " <ul> \n",
    " <li><strong>14129 (entrada)</strong>: 421.8 (ppm)</li>\n",
    " <li><strong>14133 (XYZ)</strong>: 432.4 (ug/m3)</li>\n",
    " </ul>\n",
    " Estos niveles de CO2, en nivel promedio, son razonablemente similares a valore de fondo (entorno 400-450ppm) en era post-industrial.\n",
    "'''\n",
    "\n",
    "test.add_content(title = 'Análisis Datos de CO2', iframe = fco2ts, text = text, show_title = True, force = True)"
   ]
  },
  {
   "cell_type": "code",
   "execution_count": null,
   "metadata": {},
   "outputs": [],
   "source": [
    "text = '''\n",
    "    Estos valores de CO2 se superan en eventos, sobre todo en el sensor de la entrada del recinto. Sin embargo, estos valores, \n",
    "    al estar en exterior, no suponen un efecto adverso en absoluto, ya que los valores normales en un edificio ocupado se encuentran entre 600-800ppm.\n",
    "'''\n",
    "\n",
    "test.add_content(title = 'Análisis Datos de CO2 (eventos)', figure = fco2event, text = text, show_title = False, force = True)"
   ]
  },
  {
   "cell_type": "code",
   "execution_count": null,
   "metadata": {},
   "outputs": [],
   "source": [
    "text = '''\n",
    " Los datos de temperatura y humedad se encuentran representados abajo. No es posible hacer una comparación de estos datos con otros valores de referencia,\n",
    " al ser medidas puntuales. \n",
    "'''\n",
    "\n",
    "test.add_content(title = 'Análisis Datos de Temperatura y Humedad', iframe = ftempts, text = text, show_title = True, force = True)"
   ]
  },
  {
   "cell_type": "code",
   "execution_count": null,
   "metadata": {},
   "outputs": [],
   "source": [
    "\n",
    "test.add_content(title = 'Análisis Datos de Temperatura y Humedad (2)', iframe = fhumts, text = None, show_title = False, force = True)"
   ]
  },
  {
   "cell_type": "code",
   "execution_count": null,
   "metadata": {},
   "outputs": [],
   "source": [
    "text = 'Sin embargo, se muestra debajo una medida media diaria de temperatura como referencia.'\n",
    "test.add_content(title = 'Análisis Datos de Temperatura y Humedad (3)', figure = figtempmax.figure, text = text, show_title = False, force = True)"
   ]
  },
  {
   "cell_type": "markdown",
   "metadata": {
    "tags": [],
    "toc-hr-collapsed": true
   },
   "source": [
    "## Save"
   ]
  },
  {
   "cell_type": "code",
   "execution_count": null,
   "metadata": {},
   "outputs": [],
   "source": [
    "report_path, _ = test.to_html(title='Palo Alto Analysis', devices_summary=True);"
   ]
  },
  {
   "cell_type": "code",
   "execution_count": null,
   "metadata": {},
   "outputs": [],
   "source": [
    "!open $report_path"
   ]
  },
  {
   "cell_type": "markdown",
   "metadata": {},
   "source": [
    "## Upload"
   ]
  },
  {
   "cell_type": "code",
   "execution_count": null,
   "metadata": {},
   "outputs": [],
   "source": [
    "s3_report_path = f'reports/{test.full_name}_1.html'\n",
    "url = s3handler.upload(report_path, s3_report_path)"
   ]
  }
 ],
 "metadata": {
  "kernelspec": {
   "display_name": "Python 3",
   "language": "python",
   "name": "python3"
  },
  "language_info": {
   "codemirror_mode": {
    "name": "ipython",
    "version": 3
   },
   "file_extension": ".py",
   "mimetype": "text/x-python",
   "name": "python",
   "nbconvert_exporter": "python",
   "pygments_lexer": "ipython3",
   "version": "3.9.9"
  },
  "toc-autonumbering": true,
  "toc-showtags": false
 },
 "nbformat": 4,
 "nbformat_minor": 4
}
