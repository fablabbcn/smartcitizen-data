{
 "cells": [
  {
   "cell_type": "code",
   "execution_count": null,
   "id": "88148579-810f-451f-861c-2c86f61a0e0d",
   "metadata": {},
   "outputs": [],
   "source": [
    "import smartcitizen_connector\n",
    "import scdata as sc\n",
    "import time\n",
    "now = time.localtime()"
   ]
  },
  {
   "cell_type": "code",
   "execution_count": null,
   "id": "c7388dd7-04a2-4147-8344-6b50d72e6c6a",
   "metadata": {},
   "outputs": [],
   "source": [
    "df = smartcitizen_connector.search_by_query(endpoint='devices',\n",
    "                                            search_items=[{\n",
    "                                                'key': 'postprocessing_id', \n",
    "                                                'value': 'not_null',\n",
    "                                                'full': True\n",
    "                                            }])"
   ]
  },
  {
   "cell_type": "code",
   "execution_count": null,
   "id": "3b803f26-4dc1-4edd-8b42-6739d97c1a77",
   "metadata": {
    "scrolled": true
   },
   "outputs": [],
   "source": [
    "devices = []\n",
    "discard = [17327, 17370]\n",
    "for item in df['postprocessing']:\n",
    "    print (item['device_id'], df.loc[item['device_id'], 'name'], item['meta'])\n",
    "    if item['device_id'] in discard: continue\n",
    "    if item['meta'] == 'development-ajuntamentc40-1':\n",
    "        devices.append(item['device_id'])"
   ]
  },
  {
   "cell_type": "code",
   "execution_count": null,
   "id": "8a7f5fc8-29a0-430d-98eb-a1e05b2e7114",
   "metadata": {},
   "outputs": [],
   "source": [
    "devices"
   ]
  },
  {
   "cell_type": "code",
   "execution_count": null,
   "id": "4897ab6c-86f1-4925-8f5e-664c44e13464",
   "metadata": {
    "scrolled": true
   },
   "outputs": [],
   "source": [
    "test = sc.Test(name=f'C40_BATCH_1',\n",
    "            devices=[sc.Device(blueprint='sc_air', params=sc.APIParams(id=id)) for id in devices]\n",
    ")\n",
    "test.options.cache=True"
   ]
  },
  {
   "cell_type": "code",
   "execution_count": null,
   "id": "14a535b1-ff1b-4ab6-a581-92a91682a35b",
   "metadata": {
    "scrolled": true
   },
   "outputs": [],
   "source": [
    "test = sc.Test(name=f'C40_BATCH_1')\n",
    "test.options.cache=True"
   ]
  },
  {
   "cell_type": "code",
   "execution_count": null,
   "id": "b5425469-cb3a-47ba-b43a-baa7286f81ed",
   "metadata": {
    "scrolled": true
   },
   "outputs": [],
   "source": [
    "await test.load()"
   ]
  },
  {
   "cell_type": "code",
   "execution_count": null,
   "id": "48af1cbc-4c25-49c4-848b-4f527940fcae",
   "metadata": {},
   "outputs": [],
   "source": [
    "traces = {\n",
    "            \"1\": {\"devices\": \"all\",\n",
    "                  \"channel\": \"PMS5003_PM_1\",\n",
    "                  \"subplot\": 1}\n",
    "        }\n",
    "\n",
    "test.ts_uplot(traces = traces, \n",
    "              formatting = {'width':1000, \n",
    "                            'title': 'PM_1',\n",
    "                            'padding-bottom': 600,\n",
    "                            'ylabel': {1: 'PM1 (ug/cm3)'}\n",
    "                           }, \n",
    "              options = {'frequency': '5Min'})"
   ]
  },
  {
   "cell_type": "code",
   "execution_count": null,
   "id": "f3e93742-cfa1-49c8-8cdf-29708a56815a",
   "metadata": {},
   "outputs": [],
   "source": [
    "traces = {\n",
    "            \"1\": {\"devices\": \"all\",\n",
    "                  \"channel\": \"SCD30_CO2\",\n",
    "                  \"subplot\": 1}\n",
    "        }\n",
    "\n",
    "test.ts_uplot(traces = traces, \n",
    "              formatting = {'width':1000, \n",
    "                            'title': 'CO2',\n",
    "                            'padding-bottom': 600,\n",
    "                            'ylabel': {1: 'CO2 (ppm)'}\n",
    "                           }, \n",
    "              options = {'frequency': '1Min'})"
   ]
  },
  {
   "cell_type": "code",
   "execution_count": null,
   "id": "26ee4649-7b29-435f-a9f4-8e0601d218cd",
   "metadata": {},
   "outputs": [],
   "source": [
    "traces = {\n",
    "            \"1\": {\"devices\": \"all\",\n",
    "                  \"channel\": \"TEMP\",\n",
    "                  \"subplot\": 1}\n",
    "        }\n",
    "\n",
    "test.ts_uplot(traces = traces, \n",
    "              formatting = {'width':1000, \n",
    "                            'title': 'Temperature',\n",
    "                            'padding-bottom': 600,\n",
    "                            'ylabel': {1: 'Temp (degC)'}\n",
    "                           }, \n",
    "              options = {'frequency': '1Min'})"
   ]
  },
  {
   "cell_type": "code",
   "execution_count": null,
   "id": "5d395933-281f-4549-9524-791d3ee06ab4",
   "metadata": {},
   "outputs": [],
   "source": [
    "traces = {\n",
    "            \"1\": {\"devices\": \"all\",\n",
    "                  \"channel\": \"NOISE_A\",\n",
    "                  \"subplot\": 1}\n",
    "        }\n",
    "\n",
    "test.ts_uplot(traces = traces, \n",
    "              formatting = {'width':1000, \n",
    "                            'title': 'Noise',\n",
    "                            'padding-bottom': 600,\n",
    "                            'ylabel': {1: 'Noise (dBA)'}\n",
    "                           }, \n",
    "              options = {'frequency': '10Min'})"
   ]
  },
  {
   "cell_type": "code",
   "execution_count": null,
   "id": "c95b1b93-8951-414c-a92a-5aa8fdc147cf",
   "metadata": {},
   "outputs": [],
   "source": [
    "traces = {\n",
    "            \"1\": {\"devices\": \"all\",\n",
    "                  \"channel\": \"BATT\",\n",
    "                  \"subplot\": 1}\n",
    "        }\n",
    "\n",
    "test.ts_uplot(traces = traces, \n",
    "              formatting = {'width':1000, \n",
    "                            'title': 'Battery',\n",
    "                            'padding-bottom': 600,\n",
    "                            'ylabel': {1: 'Battery (%)'}\n",
    "                           }, \n",
    "              options = {'frequency': '1Min'})"
   ]
  },
  {
   "cell_type": "code",
   "execution_count": null,
   "id": "00a9cbb4-b9d7-4f7a-b241-c97b64b8e62b",
   "metadata": {},
   "outputs": [],
   "source": [
    "traces = {\n",
    "            \"1\": {\"devices\": \"all\",\n",
    "                  \"channel\": \"PRESS\",\n",
    "                  \"subplot\": 1}\n",
    "        }\n",
    "\n",
    "test.ts_uplot(traces = traces, \n",
    "              formatting = {'width':1000, \n",
    "                            'title': 'Pressure',\n",
    "                            'ylabel': {1: 'Pressure (kPa)'}\n",
    "                           }, \n",
    "              options = {'frequency': '1Min'})"
   ]
  },
  {
   "cell_type": "markdown",
   "id": "5780e33a-5a77-4155-b524-23ccb9cc40b9",
   "metadata": {},
   "source": [
    "### Data gaps"
   ]
  },
  {
   "cell_type": "code",
   "execution_count": null,
   "id": "9ffc49a4-50c9-407c-97c5-69ad944da328",
   "metadata": {},
   "outputs": [],
   "source": [
    "import pandas as pd\n",
    "import seaborn as sns\n",
    "import matplotlib.pyplot as plt\n",
    "import logging\n",
    "import asyncio\n",
    "import datetime\n",
    "from scdata.tools.date import localise_date"
   ]
  },
  {
   "cell_type": "code",
   "execution_count": null,
   "id": "4005df54-3cd9-4703-a215-0646d00e8778",
   "metadata": {},
   "outputs": [],
   "source": [
    "for device in test.devices:\n",
    "    a = localise_date(datetime.datetime.now(), 'UTC') - device.handler.json.last_reading_at\n",
    "    hours_ago = round(a.total_seconds() / 3600)\n",
    "    print (device.id, device.handler.json.last_reading_at, hours_ago)\n",
    "    plt.figure(figsize=(15,6))\n",
    "    df = test.get_device(device.id).data.resample('5Min').mean()\n",
    "    sns.heatmap(df.isna().transpose(),\n",
    "                cmap=\"YlGnBu\",\n",
    "                cbar_kws={'label': 'Missing Data'}).set(title=f'{test.name}: {device.id} - ({device.handler.json.name}) {hours_ago}h')"
   ]
  },
  {
   "cell_type": "code",
   "execution_count": null,
   "id": "cf64a1ec-f841-4841-bdf2-5c33a70b9cc8",
   "metadata": {},
   "outputs": [],
   "source": [
    "test.get_device(17512).sensors"
   ]
  },
  {
   "cell_type": "code",
   "execution_count": null,
   "id": "00e44471-ecca-45b5-84f4-98a5c9a70c3f",
   "metadata": {},
   "outputs": [],
   "source": []
  }
 ],
 "metadata": {
  "kernelspec": {
   "display_name": "Python 3 (ipykernel)",
   "language": "python",
   "name": "python3"
  },
  "language_info": {
   "codemirror_mode": {
    "name": "ipython",
    "version": 3
   },
   "file_extension": ".py",
   "mimetype": "text/x-python",
   "name": "python",
   "nbconvert_exporter": "python",
   "pygments_lexer": "ipython3",
   "version": "3.11.7"
  }
 },
 "nbformat": 4,
 "nbformat_minor": 5
}
