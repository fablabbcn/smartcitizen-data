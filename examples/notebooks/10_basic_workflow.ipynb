{
 "cells": [
  {
   "cell_type": "markdown",
   "metadata": {},
   "source": [
    "## Workflow example\n",
    "\n",
    "This notebook demonstrates a basic workflow for loading data, making timeseries plots and saving it to csv files, with two different ways: \n",
    "\n",
    "- Individual `device`\n",
    "- `Test` containing various devices\n",
    "\n",
    "This is an example of the metadata stored in a `test`, alongside a collection of devices with different options: \n",
    "\n",
    "- author\n",
    "- project\n",
    "- notes\n",
    "- dates\n",
    "- report\n",
    "- ..."
   ]
  },
  {
   "cell_type": "markdown",
   "metadata": {},
   "source": [
    "## Device example\n",
    "\n",
    "Devices can be loaded from various sources:\n",
    "- local csv files\n",
    "- the Smart Citizen API\n",
    "- the MUV api\n",
    "- open data APIs such as the Barcelona City council.\n",
    "- NILU iflink API (Norwegian Institute for Air Research)\n",
    "\n",
    "This notebook will showcase the SmartCitizen API one. Visit [this notebook](./02_access_the_power_of_data.ipynb) to get more info on how to acces other sources."
   ]
  },
  {
   "cell_type": "code",
   "execution_count": null,
   "metadata": {},
   "outputs": [],
   "source": [
    "from scdata._config import config\n",
    "\n",
    "config._out_level = 'DEBUG'"
   ]
  },
  {
   "cell_type": "code",
   "execution_count": null,
   "metadata": {},
   "outputs": [],
   "source": [
    "from scdata.device import Device\n",
    "\n",
    "# Below, the device ID is the number after kits/ in the kit URL, for instance:\n",
    "# or this kit: http://smartcitizen.me/kits/13625, the device would be 13625\n",
    "device = Device(blueprint = 'sck_21', descriptor = {'id': '13625', \n",
    "                                                    # The source is always api when it comes from any API, \n",
    "                                                    # in this case as it's an sck_21, we'll use the SmartCitizen one\n",
    "                                                    'source': 'api', \n",
    "                                                    # The frequency at which we want to load the data. By default, we don't clean NaNs\n",
    "                                                    'frequency': '1Min'})"
   ]
  },
  {
   "cell_type": "code",
   "execution_count": null,
   "metadata": {},
   "outputs": [],
   "source": [
    "# Get the device information\n",
    "print ('---SENSORS---')\n",
    "print (device.sensors)\n",
    "# The device contains another sub-device from the API in question that shows other methods\n",
    "print ('\\n---ADDED AT---')\n",
    "print (device.api_device.get_device_added_at())\n",
    "print ('\\n---LAST READING---')\n",
    "print (device.api_device.get_device_last_reading())\n",
    "print ('\\n---TIMEZONE---')\n",
    "print (device.api_device.get_device_timezone())\n",
    "print ('\\n---API SENSORS---')\n",
    "print (device.api_device.get_device_sensors())\n",
    "print ('\\n---API KIT ID---')\n",
    "print (device.api_device.get_kit_ID())\n"
   ]
  },
  {
   "cell_type": "markdown",
   "metadata": {},
   "source": [
    "In this case, we assumed the device was a SCK 2.1 blueprint, but in fact the platform returns a kit_id 33 [see https://api.smartcitizen.me/v0/kits?per_page=200](https://api.smartcitizen.me/v0/kits?per_page=200). The sensors there will be used."
   ]
  },
  {
   "cell_type": "code",
   "execution_count": null,
   "metadata": {
    "scrolled": true,
    "tags": []
   },
   "outputs": [],
   "source": [
    "# Not get the device data\n",
    "device.load();"
   ]
  },
  {
   "cell_type": "code",
   "execution_count": null,
   "metadata": {},
   "outputs": [],
   "source": [
    "# Take a look at the first rows\n",
    "device.readings.head(4)"
   ]
  },
  {
   "cell_type": "code",
   "execution_count": null,
   "metadata": {},
   "outputs": [],
   "source": [
    "# The readings object is a pandas.DataFrame() object, with the same properties to plot, filter, get data, etc\n",
    "# More information on the pandas.DataFrame() object here: https://pandas.pydata.org/pandas-docs/stable/reference/api/pandas.DataFrame.html\n",
    "device.readings[['TEMP']].plot(figsize = (15,10), \n",
    "                               grid = True, \n",
    "                               ylim=(15,20))"
   ]
  },
  {
   "cell_type": "code",
   "execution_count": null,
   "metadata": {},
   "outputs": [],
   "source": [
    "# Get some basic metrics\n",
    "print (device.readings[['TEMP']].mean())\n",
    "print (device.readings[['TEMP']].max())\n",
    "print (device.readings[['TEMP']].min())"
   ]
  },
  {
   "cell_type": "markdown",
   "metadata": {},
   "source": [
    "## Test example\n",
    "\n",
    "Tests are \"more complex\" structures, that allow having plenty of devices in the same abstract representation. It allows for traceability of different deployments with metadata stored alongside with it."
   ]
  },
  {
   "cell_type": "code",
   "execution_count": null,
   "metadata": {},
   "outputs": [],
   "source": [
    "from scdata import Test\n",
    "# The second time you load it, you don't need to input the whole name, just some words. Then, in the input box, put the number for the test\n",
    "test = Test('MINKE_WORFKLOW')"
   ]
  },
  {
   "cell_type": "code",
   "execution_count": null,
   "metadata": {},
   "outputs": [],
   "source": [
    "### WARNING: Run this cell only the first time, when you create the test\n",
    "\n",
    "# Add the devices you want to it\n",
    "devices = ['13625', '13604', '13605']\n",
    "\n",
    "for device in devices:\n",
    "    # Tests can have devices from many sources, and they can be compared in a common framework (from csv data, API(s), etc.)\n",
    "    test.add_device(Device(blueprint = 'sck_21',  descriptor = {'source': 'api',\n",
    "                                                  'id': device,\n",
    "                                                  'frequency': '1Min',\n",
    "                                                  'timezone': 'Europe/Madrid'}))"
   ]
  },
  {
   "cell_type": "code",
   "execution_count": null,
   "metadata": {},
   "outputs": [],
   "source": [
    "### WARNING: Run this cell only the first time, when you create the test\n",
    "\n",
    "# Create it\n",
    "test.create()"
   ]
  },
  {
   "cell_type": "markdown",
   "metadata": {},
   "source": [
    "This creates the necessary folder structure and data in the following path"
   ]
  },
  {
   "cell_type": "code",
   "execution_count": null,
   "metadata": {},
   "outputs": [],
   "source": [
    "test.path"
   ]
  },
  {
   "cell_type": "code",
   "execution_count": null,
   "metadata": {
    "scrolled": true,
    "tags": []
   },
   "outputs": [],
   "source": [
    "# Finally, load it\n",
    "test.load()\n",
    "\n",
    "# Alternatively, you can load from different dates - if you have cached the files, you might need to delete them first\n",
    "# Options for min_date, max_date, frequency, or what to do with the NaNs\n",
    "\n",
    "# options = {'min_date': '2021-01-20'}\n",
    "# test.load(options = options)"
   ]
  },
  {
   "cell_type": "markdown",
   "metadata": {},
   "source": [
    "All csv data is directly stored in the folder above, but in the `cached` subfolder. Next time, the load process from the API will account for what is already in that folder and won't load the same data again. The margin to reload data can be adjusted in the `cached_data_margin` parameter in the `config.yaml` file (in hours)"
   ]
  },
  {
   "cell_type": "code",
   "execution_count": null,
   "metadata": {},
   "outputs": [],
   "source": [
    "# Explore a bit\n",
    "test.devices"
   ]
  },
  {
   "cell_type": "code",
   "execution_count": null,
   "metadata": {},
   "outputs": [],
   "source": [
    "# The same applies for the devices data inside (a pandas.DataFrame)\n",
    "test.devices['13625'].readings.head(4)"
   ]
  },
  {
   "cell_type": "code",
   "execution_count": null,
   "metadata": {},
   "outputs": [],
   "source": [
    "# Make a plot (basic one)\n",
    "traces = {1: {'devices': 'all', 'channel': 'TEMP', 'subplot': 1}}\n",
    "\n",
    "test.ts_plot(traces = traces);"
   ]
  },
  {
   "cell_type": "code",
   "execution_count": null,
   "metadata": {},
   "outputs": [],
   "source": [
    "# Make some adjustments\n",
    "traces = {1: {'devices': 'all', 'channel': 'TEMP', 'subplot': 1}}\n",
    "\n",
    "formatting = {'width': 12, 'height': 8, 'ylabel': {1: 'TEMP'}, 'title': 'Temperature comparison'}\n",
    "\n",
    "# Options for min_date, max_date, frequency, or what to do with the NaNs\n",
    "options = {'min_date': '2021-01-19 12:00:00', 'max_date': '2021-01-22', 'frequency': '10Min', 'clean_na': None}\n",
    "\n",
    "test.ts_plot(traces = traces, options = options, formatting = formatting);"
   ]
  },
  {
   "cell_type": "code",
   "execution_count": null,
   "metadata": {},
   "outputs": [],
   "source": [
    "# Make some adjustments and some subplots\n",
    "# If you put 'all' in the devices for the traces, it will plot all of them\n",
    "# Otherwise, you can just put a list of the devices you want\n",
    "traces = {1: {'devices': 'all', 'channel': 'TEMP', 'subplot': 1},\n",
    "          2: {'devices': ['13625', '13604'], 'channel': 'HUM', 'subplot': 2}}\n",
    "\n",
    "formatting = {'width': 12, \n",
    "              'height': 10, \n",
    "              'ylabel': {1: 'TEMP (degC)', 2: 'HUM (%rh)'}, \n",
    "              'title': 'Temperature and humidity comparison'}\n",
    "\n",
    "options = {'min_date': '2021-01-19 12:00:00','max_date': '2021-01-22', 'frequency': '10Min', 'clean_na': None}\n",
    "fig = test.ts_plot(traces = traces, options = options, formatting = formatting);\n",
    "\n",
    "# Uncomment below to save the figure somewhere\n",
    "# fig.savefig('~/Desktop/plot.png', dpi = 300, transparent=False, bbox_inches='tight')\n",
    "\n",
    "# Visit the 03_plotting_in_no_time example to explore more options regarding plots"
   ]
  },
  {
   "cell_type": "code",
   "execution_count": null,
   "metadata": {},
   "outputs": [],
   "source": [
    "# Make some interactive plots (if you have plotly installed)\n",
    "# If you put 'all' in the devices for the traces, it will plot all of them\n",
    "# Otherwise, you can just put a list of the devices you want\n",
    "traces = {1: {'devices': 'all', 'channel': 'TEMP', 'subplot': 1},\n",
    "          2: {'devices': ['13625', '13604'], 'channel': 'HUM', 'subplot': 2}}\n",
    "\n",
    "formatting = {'width': 800, \n",
    "              'height': 600, \n",
    "              'ylabel': {1: 'TEMP (degC)', 2: 'HUM (%rh)'}, \n",
    "              'title': 'Temperature and humidity comparison'}\n",
    "\n",
    "options = {'min_date': '2021-01-19 12:00:00', 'max_date': '2021-01-22', 'frequency': '10Min', 'clean_na': None}\n",
    "test.ts_uplot(traces = traces, options = options, formatting = formatting)\n",
    "\n",
    "# Uncomment below to save the figure somewhere\n",
    "# fig.savefig('~/Desktop/plot.png', dpi = 300, transparent=False, bbox_inches='tight')"
   ]
  },
  {
   "cell_type": "code",
   "execution_count": null,
   "metadata": {},
   "outputs": [],
   "source": [
    "## Export data to the desktop in csv\n",
    "test.devices['13625'].export(path ='~/Desktop')"
   ]
  },
  {
   "cell_type": "code",
   "execution_count": null,
   "metadata": {},
   "outputs": [],
   "source": [
    "# Or the whole thing\n",
    "test.to_csv()"
   ]
  },
  {
   "cell_type": "code",
   "execution_count": null,
   "metadata": {},
   "outputs": [],
   "source": [
    "# You can also make a descriptor front page in HTML\n",
    "test.to_html();"
   ]
  },
  {
   "cell_type": "code",
   "execution_count": null,
   "metadata": {},
   "outputs": [],
   "source": []
  }
 ],
 "metadata": {
  "kernelspec": {
   "display_name": "Python 3",
   "language": "python",
   "name": "python3"
  },
  "language_info": {
   "codemirror_mode": {
    "name": "ipython",
    "version": 3
   },
   "file_extension": ".py",
   "mimetype": "text/x-python",
   "name": "python",
   "nbconvert_exporter": "python",
   "pygments_lexer": "ipython3",
   "version": "3.9.9"
  }
 },
 "nbformat": 4,
 "nbformat_minor": 4
}
