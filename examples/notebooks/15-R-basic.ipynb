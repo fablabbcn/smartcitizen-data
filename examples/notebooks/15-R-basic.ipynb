{
 "cells": [
  {
   "cell_type": "markdown",
   "id": "1b49b686-abe5-488f-81e0-f5f4880a6c87",
   "metadata": {},
   "source": [
    "## Install packages"
   ]
  },
  {
   "cell_type": "code",
   "execution_count": null,
   "id": "edc7e6a3-6d28-4854-8eb2-1225573d67d0",
   "metadata": {},
   "outputs": [],
   "source": [
    "install.packages(\"ggplot2\") # For plots"
   ]
  },
  {
   "cell_type": "code",
   "execution_count": null,
   "id": "88bac5bb-acda-489b-8459-0cc81be0fb9c",
   "metadata": {},
   "outputs": [],
   "source": [
    "library(devtools)"
   ]
  },
  {
   "cell_type": "code",
   "execution_count": null,
   "id": "6e0d2dbf-ec6e-4d6a-8d67-9229d5830e31",
   "metadata": {},
   "outputs": [],
   "source": [
    "install_github('fablabbcn/smartcitizen-R-data') # Our little script for getting API data"
   ]
  },
  {
   "cell_type": "markdown",
   "id": "87426a3a-400a-4b82-babe-508bff510c71",
   "metadata": {},
   "source": [
    "## Load packages"
   ]
  },
  {
   "cell_type": "code",
   "execution_count": null,
   "id": "13bcb984-221d-4ac5-b171-5463a3d063f0",
   "metadata": {},
   "outputs": [],
   "source": [
    "library(ggplot2)\n",
    "library(smartcitizenRdata)"
   ]
  },
  {
   "cell_type": "markdown",
   "id": "668c83fc-2291-4321-9a5f-e8a7b3fa3b6e",
   "metadata": {},
   "source": [
    "## Get data"
   ]
  },
  {
   "cell_type": "code",
   "execution_count": null,
   "id": "682330a7-bc36-49a7-aeef-d4ca49129bbd",
   "metadata": {},
   "outputs": [],
   "source": [
    "d <- ScDevice$new(id = 15618)"
   ]
  },
  {
   "cell_type": "code",
   "execution_count": null,
   "id": "aac14dd7-6a48-4c48-a86f-e876a964aca9",
   "metadata": {},
   "outputs": [],
   "source": [
    "d$get_names()"
   ]
  },
  {
   "cell_type": "code",
   "execution_count": null,
   "id": "d0269672-111c-4c64-a2ad-ba0787024edc",
   "metadata": {
    "scrolled": true,
    "tags": []
   },
   "outputs": [],
   "source": [
    "d$names"
   ]
  },
  {
   "cell_type": "code",
   "execution_count": null,
   "id": "0c94fe4e-7e6e-4387-a534-2057ce9b235f",
   "metadata": {},
   "outputs": [],
   "source": [
    "d$get_device_data()"
   ]
  },
  {
   "cell_type": "code",
   "execution_count": null,
   "id": "af272b20-3f7c-49f5-873e-98b1a98fbb69",
   "metadata": {},
   "outputs": [],
   "source": [
    "data <- d$data"
   ]
  },
  {
   "cell_type": "code",
   "execution_count": null,
   "id": "3f65a134-60dc-4cc3-b7d2-c4e2bded5817",
   "metadata": {
    "scrolled": true,
    "tags": []
   },
   "outputs": [],
   "source": [
    "data <- data.frame(date= index(data), coredata(data))\n",
    "data"
   ]
  },
  {
   "cell_type": "code",
   "execution_count": null,
   "id": "ee81172c-47b5-4acc-8a9d-9c425d2cdc79",
   "metadata": {},
   "outputs": [],
   "source": [
    "#create time series plot\n",
    "p <- ggplot(data, aes(x=date, y=Temperature)) +\n",
    "       geom_line()\n",
    "\n",
    "#display time series plot\n",
    "p"
   ]
  },
  {
   "cell_type": "code",
   "execution_count": null,
   "id": "80fa8b1b-ac13-4568-9f04-8be5268bd15d",
   "metadata": {},
   "outputs": [],
   "source": []
  }
 ],
 "metadata": {
  "kernelspec": {
   "display_name": "R",
   "language": "R",
   "name": "ir"
  },
  "language_info": {
   "codemirror_mode": "r",
   "file_extension": ".r",
   "mimetype": "text/x-r-source",
   "name": "R",
   "pygments_lexer": "r",
   "version": "4.2.1"
  }
 },
 "nbformat": 4,
 "nbformat_minor": 5
}
