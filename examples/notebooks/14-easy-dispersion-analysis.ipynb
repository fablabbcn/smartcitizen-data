{
 "cells": [
  {
   "cell_type": "markdown",
   "id": "466db05a-92bf-4046-b3c6-5edd3727902f",
   "metadata": {},
   "source": [
    "# Dispersion analysis\n",
    "\n",
    "This example shows how to perform an easy dispersion analysis of some devices, plotting data with confidence intervals."
   ]
  },
  {
   "cell_type": "code",
   "execution_count": null,
   "id": "2676927f-93a5-48ce-8ab5-e27e49bf68d5",
   "metadata": {},
   "outputs": [],
   "source": [
    "import scdata as sc\n",
    "import pprint\n",
    "from IPython.display import display, HTML\n",
    "\n",
    "pp = pprint.PrettyPrinter(indent=4)"
   ]
  },
  {
   "cell_type": "code",
   "execution_count": null,
   "id": "a27d9a9f-c718-4ed1-a86d-e5cca69640b6",
   "metadata": {},
   "outputs": [],
   "source": [
    "t = sc.Test('DELIVERIES_122022')\n",
    "t.add_devices_list(devices_list=list(range(15876,15884,1)), blueprint='sck_21')"
   ]
  },
  {
   "cell_type": "code",
   "execution_count": null,
   "id": "ee8743d1-1546-4f09-97ef-070d48704c0e",
   "metadata": {},
   "outputs": [],
   "source": [
    "t.create()"
   ]
  },
  {
   "cell_type": "code",
   "execution_count": null,
   "id": "aadd58fc-985a-4f10-a2b8-1fdfc7b3bfb9",
   "metadata": {},
   "outputs": [],
   "source": [
    "t.add_devices_list(devices_list=[15835, 15837, 15838, 15839], blueprint='sck_21')"
   ]
  },
  {
   "cell_type": "code",
   "execution_count": null,
   "id": "ba1a894d-0523-4101-a640-4a219d0bb269",
   "metadata": {},
   "outputs": [],
   "source": [
    "t.create(force=True)"
   ]
  },
  {
   "cell_type": "code",
   "execution_count": null,
   "id": "ef8dad5f-97d0-4be5-b3a5-ba7e2fc6c0a5",
   "metadata": {
    "scrolled": true,
    "tags": []
   },
   "outputs": [],
   "source": [
    "t.load()"
   ]
  },
  {
   "cell_type": "markdown",
   "id": "32b01e6c-06ce-484a-975a-8530abf1f2f8",
   "metadata": {},
   "source": [
    "Get the channels that all devices have (will show warnings if one device is not measuring a particular channel, or if it has less data points)"
   ]
  },
  {
   "cell_type": "code",
   "execution_count": null,
   "id": "ce848f2e-e2f0-425e-9b8e-2fd8caf5be54",
   "metadata": {},
   "outputs": [],
   "source": [
    "t.get_common_channels()\n",
    "print('\\nDispersion Analysis Summary:\\n')\n",
    "pp.pprint(t.dispersion_analysis())"
   ]
  },
  {
   "cell_type": "markdown",
   "id": "493ed26b-bbd7-4a22-9cd6-cc4ccb9b7671",
   "metadata": {},
   "source": [
    "Plot each metric, grouped and with confidence intervals"
   ]
  },
  {
   "cell_type": "code",
   "execution_count": null,
   "id": "7bda5a23-4c48-446a-a5a6-e71174e1310a",
   "metadata": {},
   "outputs": [],
   "source": [
    "for ch in t.common_channels:\n",
    "    display(t.ts_dispersion_uplot(channel = ch, formatting = {'width': 1000, 'height': 300, 'padding-bottom': 600, 'join_sbplot':True}))"
   ]
  },
  {
   "cell_type": "code",
   "execution_count": null,
   "id": "41e3e7d3-37d3-4604-87d9-de73a15c6c78",
   "metadata": {},
   "outputs": [],
   "source": []
  }
 ],
 "metadata": {
  "kernelspec": {
   "display_name": "Python 3",
   "language": "python",
   "name": "python3"
  },
  "language_info": {
   "codemirror_mode": {
    "name": "ipython",
    "version": 3
   },
   "file_extension": ".py",
   "mimetype": "text/x-python",
   "name": "python",
   "nbconvert_exporter": "python",
   "pygments_lexer": "ipython3",
   "version": "3.9.9"
  }
 },
 "nbformat": 4,
 "nbformat_minor": 5
}
