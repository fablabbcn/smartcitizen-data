{
 "cells": [
  {
   "cell_type": "markdown",
   "metadata": {},
   "source": [
    "# Data processing\n",
    "\n",
    "This example walks through the basics for processing data and added metrics.\n",
    "\n",
    "## Concepts\n",
    "\n",
    "Devices in the framework contain _raw readings_ that are under the device.readings pandas dataframe. A list of the sensors raw metrics can be shown in device.sensors.\n",
    "\n",
    "Devices can also contain processed values called metrics. These metrics can be added by passing a callable function and then processed."
   ]
  },
  {
   "cell_type": "code",
   "execution_count": null,
   "metadata": {},
   "outputs": [],
   "source": [
    "from scdata.test import Test\n",
    "from scdata.device import Device\n",
    "from scdata._config import config"
   ]
  },
  {
   "cell_type": "code",
   "execution_count": null,
   "metadata": {},
   "outputs": [],
   "source": [
    "config._log_level='INFO'"
   ]
  },
  {
   "cell_type": "code",
   "execution_count": null,
   "metadata": {
    "scrolled": true
   },
   "outputs": [],
   "source": [
    "test = Test(name='EXAMPLE')"
   ]
  },
  {
   "cell_type": "code",
   "execution_count": null,
   "metadata": {
    "scrolled": true
   },
   "outputs": [],
   "source": [
    "await test.load()"
   ]
  },
  {
   "cell_type": "markdown",
   "metadata": {},
   "source": [
    "## Process basics"
   ]
  },
  {
   "cell_type": "code",
   "execution_count": null,
   "metadata": {},
   "outputs": [],
   "source": [
    "for device in test.devices: \n",
    "    print (device.id)"
   ]
  },
  {
   "cell_type": "code",
   "execution_count": null,
   "metadata": {
    "tags": []
   },
   "outputs": [],
   "source": [
    "## The readings for each device are accessible via\n",
    "test.get_device(16784).data"
   ]
  },
  {
   "cell_type": "markdown",
   "metadata": {},
   "source": [
    "## Basic example calculation"
   ]
  },
  {
   "cell_type": "code",
   "execution_count": null,
   "metadata": {},
   "outputs": [],
   "source": [
    "df = test.get_device(16871).data"
   ]
  },
  {
   "cell_type": "code",
   "execution_count": null,
   "metadata": {},
   "outputs": [],
   "source": [
    "df['METRIC'] = 8 * df['TEMP'] + 25 * df['PRESS']"
   ]
  },
  {
   "cell_type": "code",
   "execution_count": null,
   "metadata": {},
   "outputs": [],
   "source": [
    "df[['TEMP', 'PRESS', 'METRIC']]"
   ]
  },
  {
   "cell_type": "markdown",
   "metadata": {},
   "source": [
    "## Making it repeatable"
   ]
  },
  {
   "cell_type": "code",
   "execution_count": null,
   "metadata": {
    "scrolled": true
   },
   "outputs": [],
   "source": [
    "## The metrics for each device are accessible via\n",
    "test.get_device(16784).metrics"
   ]
  },
  {
   "cell_type": "code",
   "execution_count": null,
   "metadata": {},
   "outputs": [],
   "source": [
    "help(Test.process)"
   ]
  },
  {
   "cell_type": "code",
   "execution_count": null,
   "metadata": {},
   "outputs": [],
   "source": [
    "d = test.get_device(16871)"
   ]
  },
  {
   "cell_type": "code",
   "execution_count": null,
   "metadata": {
    "scrolled": true,
    "tags": []
   },
   "outputs": [],
   "source": [
    "## Process the metrics as a default\n",
    "test.process()"
   ]
  },
  {
   "cell_type": "markdown",
   "metadata": {},
   "source": [
    "Now we can see processed metrics in the `device.readings`"
   ]
  },
  {
   "cell_type": "code",
   "execution_count": null,
   "metadata": {},
   "outputs": [],
   "source": [
    "for device in test.devices:\n",
    "    print (device.data.columns)"
   ]
  },
  {
   "cell_type": "markdown",
   "metadata": {},
   "source": [
    "## Add metrics"
   ]
  },
  {
   "cell_type": "code",
   "execution_count": null,
   "metadata": {
    "scrolled": true
   },
   "outputs": [],
   "source": [
    "help(Device.add_metric)"
   ]
  },
  {
   "cell_type": "code",
   "execution_count": null,
   "metadata": {
    "scrolled": true
   },
   "outputs": [],
   "source": [
    "help(Device.process)"
   ]
  },
  {
   "cell_type": "code",
   "execution_count": null,
   "metadata": {
    "scrolled": true
   },
   "outputs": [],
   "source": [
    "import scdata\n",
    "help(scdata.device.process.timeseries)\n",
    "# help(sc.device.process.alphasense)\n",
    "# help(sc.device.process.regression)"
   ]
  },
  {
   "cell_type": "markdown",
   "metadata": {},
   "source": [
    "### Basic polynomial"
   ]
  },
  {
   "cell_type": "code",
   "execution_count": null,
   "metadata": {},
   "outputs": [],
   "source": [
    "help(scdata.device.process.timeseries.poly_ts)"
   ]
  },
  {
   "cell_type": "code",
   "execution_count": null,
   "metadata": {},
   "outputs": [],
   "source": [
    "from scdata.models import Metric"
   ]
  },
  {
   "cell_type": "code",
   "execution_count": null,
   "metadata": {},
   "outputs": [],
   "source": [
    "metric = Metric(name='TP_Poly',\n",
    "                description='Basic Polynomial calculation',\n",
    "                function='poly_ts',\n",
    "                kwargs= {'channels': ['TEMP', 'PRESS'], 'coefficients': [8, 25]}\n",
    "               )\n",
    "\n",
    "test.get_device(16871).add_metric(metric)"
   ]
  },
  {
   "cell_type": "code",
   "execution_count": null,
   "metadata": {
    "scrolled": true
   },
   "outputs": [],
   "source": [
    "test.get_device(16871).process(lmetrics=['TP_Poly'])"
   ]
  },
  {
   "cell_type": "code",
   "execution_count": null,
   "metadata": {
    "scrolled": true,
    "tags": []
   },
   "outputs": [],
   "source": [
    "test.get_device(16871).data.loc[:,['TEMP', 'PRESS', 'TP_Poly', 'METRIC']]"
   ]
  },
  {
   "cell_type": "code",
   "execution_count": null,
   "metadata": {},
   "outputs": [],
   "source": [
    "traces = {1: {'devices': 16871,\n",
    "              'channel': 'TP_Poly',\n",
    "              'subplot': 2},\n",
    "          2: {'devices': 16871,\n",
    "              'channel': 'TEMP',\n",
    "              'subplot': 1},\n",
    "          3: {'devices': 16871,\n",
    "              'channel': 'PRESS',\n",
    "              'subplot': 1},            \n",
    "         }\n",
    "\n",
    "options = {\n",
    "            'frequency': '1H'\n",
    "}\n",
    "formatting = {'width': 800, 'height': 200, 'padding-bottom': 400}\n",
    "test.ts_uplot(traces = traces, options = options, formatting=formatting)"
   ]
  },
  {
   "cell_type": "markdown",
   "metadata": {},
   "source": [
    "### Basic smoothing"
   ]
  },
  {
   "cell_type": "code",
   "execution_count": null,
   "metadata": {},
   "outputs": [],
   "source": [
    "help(scdata.device.process.timeseries.rolling_avg)"
   ]
  },
  {
   "cell_type": "code",
   "execution_count": null,
   "metadata": {},
   "outputs": [],
   "source": [
    "metric = Metric(name='NOISE_A_SMOOTH',\n",
    "                description='Basic smoothing calculation',\n",
    "                function='rolling_avg',\n",
    "                kwargs= {'name': ['NOISE_A'], 'window_size': 5}\n",
    "               )\n",
    "test.get_device(16871).add_metric(metric)"
   ]
  },
  {
   "cell_type": "code",
   "execution_count": null,
   "metadata": {
    "scrolled": true
   },
   "outputs": [],
   "source": [
    "test.get_device(16871).process(lmetrics=['NOISE_A_SMOOTH'])"
   ]
  },
  {
   "cell_type": "code",
   "execution_count": null,
   "metadata": {},
   "outputs": [],
   "source": [
    "metric = Metric(name='NOISE_A_SMOOTH_10',\n",
    "                description='Basic smoothing calculation',\n",
    "                function='rolling_avg',\n",
    "                kwargs= {'name': ['NOISE_A'], 'window_size': 10}\n",
    "               )\n",
    "test.get_device(16871).add_metric(metric)"
   ]
  },
  {
   "cell_type": "code",
   "execution_count": null,
   "metadata": {
    "scrolled": true
   },
   "outputs": [],
   "source": [
    "test.get_device(16871).process(lmetrics=['NOISE_A_SMOOTH_10'])"
   ]
  },
  {
   "cell_type": "code",
   "execution_count": null,
   "metadata": {},
   "outputs": [],
   "source": [
    "metric = Metric(name='NOISE_A_SMOOTH_60',\n",
    "                description='Basic smoothing calculation',\n",
    "                function='rolling_avg',\n",
    "                kwargs= {'name': ['NOISE_A'], 'window_size': 60}\n",
    "               )\n",
    "test.get_device(16871).add_metric(metric)"
   ]
  },
  {
   "cell_type": "code",
   "execution_count": null,
   "metadata": {
    "scrolled": true
   },
   "outputs": [],
   "source": [
    "test.get_device(16871).process(lmetrics=['NOISE_A_SMOOTH_60'])"
   ]
  },
  {
   "cell_type": "code",
   "execution_count": null,
   "metadata": {},
   "outputs": [],
   "source": [
    "test.get_device(16871).data.columns"
   ]
  },
  {
   "cell_type": "code",
   "execution_count": null,
   "metadata": {},
   "outputs": [],
   "source": [
    "traces = {1: {'devices': 16871,\n",
    "              'channel': 'NOISE_A',\n",
    "              'subplot': 1},\n",
    "          2: {'devices': 16871,\n",
    "              'channel': 'NOISE_A_OUTLIERS',\n",
    "              'subplot': 1},\n",
    "          3: {'devices': 16871,\n",
    "              'channel': 'NOISE_A_SMOOTH_10',\n",
    "              'subplot': 1},\n",
    "          4: {'devices': 16871,\n",
    "              'channel': 'NOISE_A_SMOOTH_60',\n",
    "              'subplot': 1},\n",
    "          5: {'devices': 16871,\n",
    "              'channel': 'TEMP',\n",
    "              'subplot': 2} \n",
    "         }\n",
    "\n",
    "options = {\n",
    "            'frequency': '1Min'\n",
    "}\n",
    "formatting = {'width': 800, 'height': 400}\n",
    "test.ts_uplot(traces = traces, options = options, formatting=formatting)"
   ]
  },
  {
   "cell_type": "markdown",
   "metadata": {
    "tags": []
   },
   "source": [
    "## Reprocessing\n",
    "\n",
    "When adding a new metric, one can only process the added metric as above or the whole test: `test.process()`\n",
    "\n",
    "If processes take too long, when adding a metric, the new ones can be processed as: `test.process(only_new = True)`"
   ]
  },
  {
   "cell_type": "code",
   "execution_count": null,
   "metadata": {},
   "outputs": [],
   "source": [
    "help(Test.process)"
   ]
  },
  {
   "cell_type": "code",
   "execution_count": null,
   "metadata": {},
   "outputs": [],
   "source": [
    "help(scdata.device.process.timeseries.clean_ts)"
   ]
  },
  {
   "cell_type": "markdown",
   "metadata": {},
   "source": [
    "In this example, we will remove values between 35-50dBA and perform a rolling average on the data that is left:"
   ]
  },
  {
   "cell_type": "code",
   "execution_count": null,
   "metadata": {},
   "outputs": [],
   "source": [
    "metric = Metric(name='NOISE_A_CL',\n",
    "                description='Clean Data calculation',\n",
    "                function='clean_ts',\n",
    "                kwargs= {'name': 'NOISE_A', 'limits': [35, 50], 'window_size': 3}\n",
    "               )\n",
    "test.get_device(16871).add_metric(metric)"
   ]
  },
  {
   "cell_type": "code",
   "execution_count": null,
   "metadata": {
    "scrolled": true
   },
   "outputs": [],
   "source": [
    "test.process(only_new = True)"
   ]
  },
  {
   "cell_type": "code",
   "execution_count": null,
   "metadata": {},
   "outputs": [],
   "source": [
    "test.get_device(16871).data.loc[:,['NOISE_A', 'NOISE_A_CL']]"
   ]
  },
  {
   "cell_type": "code",
   "execution_count": null,
   "metadata": {},
   "outputs": [],
   "source": [
    "traces = {1: {'devices': 16871,\n",
    "              'channel': 'NOISE_A',\n",
    "              'subplot': 1},\n",
    "          2: {'devices': 16871,\n",
    "              'channel': 'NOISE_A_CL',\n",
    "              'subplot': 1},          \n",
    "         }\n",
    "\n",
    "options = {\n",
    "            'frequency': '1Min'\n",
    "}\n",
    "test.ts_uplot(traces = traces, options = options)"
   ]
  },
  {
   "cell_type": "code",
   "execution_count": null,
   "metadata": {},
   "outputs": [],
   "source": []
  }
 ],
 "metadata": {
  "kernelspec": {
   "display_name": "Python 3 (ipykernel)",
   "language": "python",
   "name": "python3"
  },
  "language_info": {
   "codemirror_mode": {
    "name": "ipython",
    "version": 3
   },
   "file_extension": ".py",
   "mimetype": "text/x-python",
   "name": "python",
   "nbconvert_exporter": "python",
   "pygments_lexer": "ipython3",
   "version": "3.8.16"
  }
 },
 "nbformat": 4,
 "nbformat_minor": 4
}
