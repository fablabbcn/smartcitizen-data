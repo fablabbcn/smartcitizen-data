{
 "cells": [
  {
   "cell_type": "markdown",
   "metadata": {},
   "source": [
    "# Data processing\n",
    "\n",
    "This example walks through the basics for processing data and added metrics.\n",
    "\n",
    "## Concepts\n",
    "\n",
    "Devices in the framework contain _raw readings_ that are under the device.readings pandas dataframe. A list of the sensors raw metrics can be shown in device.sensors.\n",
    "\n",
    "Devices can also contain processed values called metrics. These metrics can be added by passing a callable function and then processed."
   ]
  },
  {
   "cell_type": "code",
   "execution_count": null,
   "metadata": {},
   "outputs": [],
   "source": [
    "from scdata.test import Test\n",
    "from scdata.device import Device\n",
    "from scdata._config import config\n",
    "\n",
    "config.out_level='DEBUG'\n",
    "\n",
    "test = Test('EXAMPLE_0.7.0')"
   ]
  },
  {
   "cell_type": "code",
   "execution_count": null,
   "metadata": {
    "scrolled": true
   },
   "outputs": [],
   "source": [
    "test.load()"
   ]
  },
  {
   "cell_type": "markdown",
   "metadata": {},
   "source": [
    "## Process basics"
   ]
  },
  {
   "cell_type": "code",
   "execution_count": null,
   "metadata": {
    "tags": []
   },
   "outputs": [],
   "source": [
    "## The readings for each device are accessible via\n",
    "test.devices['14627'].readings"
   ]
  },
  {
   "cell_type": "markdown",
   "metadata": {},
   "source": [
    "## Basic example calculation"
   ]
  },
  {
   "cell_type": "code",
   "execution_count": null,
   "metadata": {},
   "outputs": [],
   "source": [
    "df = test.devices['14627'].readings"
   ]
  },
  {
   "cell_type": "code",
   "execution_count": null,
   "metadata": {},
   "outputs": [],
   "source": [
    "df['METRIC'] = 8 * df['ADC_48_1'] + 25 * df['ADC_48_3']"
   ]
  },
  {
   "cell_type": "code",
   "execution_count": null,
   "metadata": {},
   "outputs": [],
   "source": [
    "df[['ADC_48_1', 'ADC_48_3', 'METRIC']]"
   ]
  },
  {
   "cell_type": "markdown",
   "metadata": {},
   "source": [
    "## Making it repeatable"
   ]
  },
  {
   "cell_type": "code",
   "execution_count": null,
   "metadata": {
    "scrolled": true
   },
   "outputs": [],
   "source": [
    "## The sensors for each device are accessible via\n",
    "test.devices['14627'].sensors"
   ]
  },
  {
   "cell_type": "code",
   "execution_count": null,
   "metadata": {
    "scrolled": true
   },
   "outputs": [],
   "source": [
    "## The metrics for each device are accessible via\n",
    "test.devices['14627'].metrics"
   ]
  },
  {
   "cell_type": "code",
   "execution_count": null,
   "metadata": {},
   "outputs": [],
   "source": [
    "help(Test.process)"
   ]
  },
  {
   "cell_type": "code",
   "execution_count": null,
   "metadata": {
    "scrolled": true,
    "tags": []
   },
   "outputs": [],
   "source": [
    "## Process the metrics as a default\n",
    "test.process()"
   ]
  },
  {
   "cell_type": "markdown",
   "metadata": {},
   "source": [
    "Now we can see processed metrics in the `device.readings`"
   ]
  },
  {
   "cell_type": "code",
   "execution_count": null,
   "metadata": {},
   "outputs": [],
   "source": [
    "for device in test.devices:\n",
    "    print (test.devices[device].readings.columns)"
   ]
  },
  {
   "cell_type": "markdown",
   "metadata": {},
   "source": [
    "## Add metrics"
   ]
  },
  {
   "cell_type": "code",
   "execution_count": null,
   "metadata": {
    "scrolled": true
   },
   "outputs": [],
   "source": [
    "help(Device.add_metric)"
   ]
  },
  {
   "cell_type": "code",
   "execution_count": null,
   "metadata": {
    "scrolled": true
   },
   "outputs": [],
   "source": [
    "help(Device.process)"
   ]
  },
  {
   "cell_type": "code",
   "execution_count": null,
   "metadata": {
    "scrolled": true
   },
   "outputs": [],
   "source": [
    "import scdata\n",
    "help(scdata.device.process.timeseries)\n",
    "# help(sc.device.process.alphasense)\n",
    "# help(sc.device.process.regression)"
   ]
  },
  {
   "cell_type": "markdown",
   "metadata": {},
   "source": [
    "### Basic polynomial"
   ]
  },
  {
   "cell_type": "code",
   "execution_count": null,
   "metadata": {},
   "outputs": [],
   "source": [
    "help(scdata.device.process.timeseries.poly_ts)"
   ]
  },
  {
   "cell_type": "code",
   "execution_count": null,
   "metadata": {},
   "outputs": [],
   "source": [
    "metric = {f'ADC_POLY': {'process': 'poly_ts',\n",
    "                           'kwargs': {'channels': ['ADC_48_1', 'ADC_48_3'],\n",
    "                                      'coefficients': [8, 25]}\n",
    "                        }}\n",
    "\n",
    "test.devices['14627'].add_metric(metric)\n",
    "test.devices['14627'].process(lmetrics=['ADC_POLY'])"
   ]
  },
  {
   "cell_type": "code",
   "execution_count": null,
   "metadata": {
    "scrolled": true,
    "tags": []
   },
   "outputs": [],
   "source": [
    "test.devices['14627'].readings"
   ]
  },
  {
   "cell_type": "code",
   "execution_count": null,
   "metadata": {},
   "outputs": [],
   "source": [
    "traces = {1: {'devices': '14627',\n",
    "              'channel': 'ADC_POLY',\n",
    "              'subplot': 2},\n",
    "          2: {'devices': '14627',\n",
    "              'channel': 'ADC_48_1',\n",
    "              'subplot': 1},\n",
    "          3: {'devices': '14627',\n",
    "              'channel': 'ADC_48_3',\n",
    "              'subplot': 1},            \n",
    "         }\n",
    "\n",
    "options = {\n",
    "            'frequency': '1H'\n",
    "}\n",
    "formatting = {'width': 800, 'height': 200, 'padding-bottom': 400}\n",
    "test.ts_uplot(traces = traces, options = options, formatting=formatting)"
   ]
  },
  {
   "cell_type": "markdown",
   "metadata": {},
   "source": [
    "### Basic smoothing"
   ]
  },
  {
   "cell_type": "code",
   "execution_count": null,
   "metadata": {},
   "outputs": [],
   "source": [
    "metric = {f'NOISE_A_SMOOTH': {'process': 'rolling_avg',\n",
    "                           'kwargs': {'name': ['NOISE_A'],\n",
    "                                      'window_size': 5}\n",
    "                        }}\n",
    "\n",
    "test.devices['14627'].add_metric(metric)\n",
    "test.devices['14627'].process(lmetrics=['NOISE_A_SMOOTH'])"
   ]
  },
  {
   "cell_type": "code",
   "execution_count": null,
   "metadata": {},
   "outputs": [],
   "source": [
    "metric = {f'NOISE_A_SMOOTH_10': {'process': 'rolling_avg',\n",
    "                           'kwargs': {'name': ['NOISE_A'],\n",
    "                                      'window_size': 10}\n",
    "                        }}\n",
    "\n",
    "test.devices['14627'].add_metric(metric)\n",
    "test.devices['14627'].process(lmetrics=['NOISE_A_SMOOTH_10'])"
   ]
  },
  {
   "cell_type": "code",
   "execution_count": null,
   "metadata": {},
   "outputs": [],
   "source": [
    "metric = {f'NOISE_A_SMOOTH_60': {'process': 'rolling_avg',\n",
    "                           'kwargs': {'name': ['NOISE_A'],\n",
    "                                      'window_size': 60}\n",
    "                        }}\n",
    "\n",
    "test.devices['14627'].add_metric(metric)\n",
    "test.devices['14627'].process(lmetrics=['NOISE_A_SMOOTH_60'])"
   ]
  },
  {
   "cell_type": "code",
   "execution_count": null,
   "metadata": {},
   "outputs": [],
   "source": [
    "test.devices['14627'].readings.columns"
   ]
  },
  {
   "cell_type": "code",
   "execution_count": null,
   "metadata": {},
   "outputs": [],
   "source": [
    "traces = {1: {'devices': '14627',\n",
    "              'channel': 'NOISE_A',\n",
    "              'subplot': 1},\n",
    "          2: {'devices': '14627',\n",
    "              'channel': 'NOISE_A_SMOOTH',\n",
    "              'subplot': 1},\n",
    "          3: {'devices': '14627',\n",
    "              'channel': 'NOISE_A_SMOOTH_10',\n",
    "              'subplot': 1},\n",
    "          4: {'devices': '14627',\n",
    "              'channel': 'NOISE_A_SMOOTH_60',\n",
    "              'subplot': 1}          \n",
    "         }\n",
    "\n",
    "options = {\n",
    "            'frequency': '.2H'\n",
    "}\n",
    "formatting = {'width': 800, 'height': 400}\n",
    "test.ts_uplot(traces = traces, options = options, formatting=formatting)"
   ]
  },
  {
   "cell_type": "markdown",
   "metadata": {
    "jp-MarkdownHeadingCollapsed": true,
    "tags": []
   },
   "source": [
    "## Reprocessing\n",
    "\n",
    "When adding a new metric, one can only process the added metric as above or the whole test: `test.process()`\n",
    "\n",
    "If processes take too long, when adding a metric, the new ones can be processed as: `test.process(only_new = True)`"
   ]
  },
  {
   "cell_type": "code",
   "execution_count": null,
   "metadata": {},
   "outputs": [],
   "source": [
    "help(Test.process)"
   ]
  },
  {
   "cell_type": "code",
   "execution_count": null,
   "metadata": {},
   "outputs": [],
   "source": [
    "help(scdata.device.process.timeseries.clean_ts)"
   ]
  },
  {
   "cell_type": "code",
   "execution_count": null,
   "metadata": {},
   "outputs": [],
   "source": [
    "metric = {f'PM_1_CLEAN': {'process': 'clean_ts',\n",
    "                           'kwargs': {'name': 'PM_1', 'limits': [0, 1000], 'window_size': 3}\n",
    "                        }}\n",
    "\n",
    "test.devices['14602'].add_metric(metric)\n",
    "test.process(only_new = True)"
   ]
  },
  {
   "cell_type": "code",
   "execution_count": null,
   "metadata": {},
   "outputs": [],
   "source": [
    "traces = {1: {'devices': '14602',\n",
    "              'channel': 'PM_1',\n",
    "              'subplot': 1},\n",
    "          2: {'devices': '14602',\n",
    "              'channel': 'PM_1_CLEAN',\n",
    "              'subplot': 1},          \n",
    "         }\n",
    "\n",
    "options = {\n",
    "            'frequency': '1H'\n",
    "}\n",
    "test.ts_uplot(traces = traces, options = options)"
   ]
  },
  {
   "cell_type": "code",
   "execution_count": null,
   "metadata": {},
   "outputs": [],
   "source": [
    "metric = {f'SCD30_CO2_SMOOTH': {'process': 'rolling_avg',\n",
    "                           'kwargs': {'name': ['SCD30_CO2'],\n",
    "                                      'window_size': 10}\n",
    "                        }}\n",
    "\n",
    "test.devices['14627'].add_metric(metric)\n",
    "test.devices['14627'].process(only_new=True)"
   ]
  },
  {
   "cell_type": "code",
   "execution_count": null,
   "metadata": {},
   "outputs": [],
   "source": [
    "traces = {1: {'devices': '14627',\n",
    "              'channel': 'SCD30_CO2',\n",
    "              'subplot': 1},\n",
    "          2: {'devices': '14627',\n",
    "              'channel': 'SCD30_CO2_SMOOTH',\n",
    "              'subplot': 1}\n",
    "         }\n",
    "\n",
    "options = {\n",
    "            'frequency': '1Min'\n",
    "}\n",
    "test.ts_uplot(traces = traces, options = options)"
   ]
  },
  {
   "cell_type": "code",
   "execution_count": null,
   "metadata": {},
   "outputs": [],
   "source": []
  }
 ],
 "metadata": {
  "kernelspec": {
   "display_name": "Python 3",
   "language": "python",
   "name": "python3"
  },
  "language_info": {
   "codemirror_mode": {
    "name": "ipython",
    "version": 3
   },
   "file_extension": ".py",
   "mimetype": "text/x-python",
   "name": "python",
   "nbconvert_exporter": "python",
   "pygments_lexer": "ipython3",
   "version": "3.9.9"
  }
 },
 "nbformat": 4,
 "nbformat_minor": 4
}
