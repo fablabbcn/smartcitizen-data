{
 "cells": [
  {
   "cell_type": "markdown",
   "id": "41435975-0630-4e40-b44b-3bed985312cd",
   "metadata": {},
   "source": [
    "# SC Data tutorial\n",
    "\n",
    "Teaching basic python tools to my friends.\n",
    "\n",
    "```\n",
    "import scdata as sc\n",
    "```"
   ]
  },
  {
   "cell_type": "markdown",
   "id": "6155c7b8-04d8-48fd-b845-fcd5b6850a6c",
   "metadata": {},
   "source": [
    "## Load necessary packages"
   ]
  },
  {
   "cell_type": "code",
   "execution_count": null,
   "id": "d526d8ef-ff65-4292-b971-c5c8fa4eca74",
   "metadata": {},
   "outputs": [],
   "source": [
    "import scdata as sc"
   ]
  },
  {
   "cell_type": "markdown",
   "id": "2df0b121-d509-4c48-972c-02c245976f11",
   "metadata": {},
   "source": [
    "## Devices"
   ]
  },
  {
   "cell_type": "code",
   "execution_count": null,
   "id": "5a8a6710-6568-445f-b18a-853f33e88c82",
   "metadata": {},
   "outputs": [],
   "source": [
    "d = sc.Device(blueprint='sc_air', params=sc.APIParams(id=18486))"
   ]
  },
  {
   "cell_type": "code",
   "execution_count": null,
   "id": "332d42db-5de4-4b78-a508-248697dad69f",
   "metadata": {},
   "outputs": [],
   "source": [
    "d.data"
   ]
  },
  {
   "cell_type": "code",
   "execution_count": null,
   "id": "8fe83697-f3e3-40e7-a430-85d310306cb5",
   "metadata": {
    "scrolled": true
   },
   "outputs": [],
   "source": [
    "await d.load()"
   ]
  },
  {
   "cell_type": "code",
   "execution_count": null,
   "id": "5c8f8916-db78-440f-9b2e-f616237befa7",
   "metadata": {},
   "outputs": [],
   "source": [
    "d.data"
   ]
  },
  {
   "cell_type": "code",
   "execution_count": null,
   "id": "37e1be03-2254-41d9-b858-0e88e9ba6d26",
   "metadata": {},
   "outputs": [],
   "source": [
    "type(d.data)"
   ]
  },
  {
   "cell_type": "code",
   "execution_count": null,
   "id": "96e369aa-5a23-40c1-9ba2-1132062981d1",
   "metadata": {},
   "outputs": [],
   "source": [
    "d.data.describe()['HUM']"
   ]
  },
  {
   "cell_type": "code",
   "execution_count": null,
   "id": "cfb31b2b-d038-4a7d-8edf-fb5f12db9641",
   "metadata": {
    "scrolled": true
   },
   "outputs": [],
   "source": [
    "d.data.mean(), d.data.max(), d.data.min()"
   ]
  },
  {
   "cell_type": "code",
   "execution_count": null,
   "id": "236eea3c-304f-440d-929a-0df495ad03ab",
   "metadata": {},
   "outputs": [],
   "source": [
    "d.data['NOISE_A'].plot(figsize=(20,6))"
   ]
  },
  {
   "cell_type": "markdown",
   "id": "e49b9682-e0a1-4d2d-a15e-e72645fd3617",
   "metadata": {},
   "source": [
    "## Create a test"
   ]
  },
  {
   "cell_type": "code",
   "execution_count": null,
   "id": "62e1165d-0e21-4b77-9ae7-276b44acbb3b",
   "metadata": {
    "scrolled": true
   },
   "outputs": [],
   "source": [
    "dlist = [\n",
    "    sc.Device(blueprint='sc_air', params=sc.APIParams(id=18486)),\n",
    "    sc.Device(blueprint='sc_air', params=sc.APIParams(id=18487)),\n",
    "    sc.Device(blueprint='sc_air', params=sc.APIParams(id=18488)),\n",
    "    sc.Device(blueprint='sc_air', params=sc.APIParams(id=18489))\n",
    "]"
   ]
  },
  {
   "cell_type": "code",
   "execution_count": null,
   "id": "4ce6df48-e078-4e1b-b28d-aacd62de3000",
   "metadata": {},
   "outputs": [],
   "source": [
    "devices_ids = [18486,  18487, 18488, 18489]"
   ]
  },
  {
   "cell_type": "code",
   "execution_count": null,
   "id": "ddfc98cc-e598-4ab2-9120-09e435def008",
   "metadata": {
    "scrolled": true
   },
   "outputs": [],
   "source": [
    "dl = []\n",
    "for device_id in devices_ids:\n",
    "    dl.append(sc.Device(blueprint='sc_air', params=sc.APIParams(id=device_id)))"
   ]
  },
  {
   "cell_type": "code",
   "execution_count": null,
   "id": "209a698b-c42b-4ee3-a6dd-ff5b8f4edd28",
   "metadata": {},
   "outputs": [],
   "source": [
    "t = sc.Test(name='SCK2.3_ENCLOSURE_TEST',devices=dl)"
   ]
  },
  {
   "cell_type": "code",
   "execution_count": null,
   "id": "1ea918cd-f017-4291-bfcf-208dc4005c8b",
   "metadata": {},
   "outputs": [],
   "source": [
    "devices_ids"
   ]
  },
  {
   "cell_type": "code",
   "execution_count": null,
   "id": "ec2e5c26-ac3c-44df-a873-ac0f33f55ee5",
   "metadata": {
    "scrolled": true
   },
   "outputs": [],
   "source": [
    "await t.load()"
   ]
  },
  {
   "cell_type": "code",
   "execution_count": null,
   "id": "42a3a087-7b6f-4528-87a0-fad7478e7f65",
   "metadata": {},
   "outputs": [],
   "source": [
    "t.get_device(18486).data.columns"
   ]
  },
  {
   "cell_type": "code",
   "execution_count": null,
   "id": "692eeaa1-dd7c-46da-aacf-b1033bebbded",
   "metadata": {},
   "outputs": [],
   "source": [
    "traces = {\n",
    "            \"1\": {\"devices\": \"all\",\n",
    "                  \"channel\": \"TEMP\",\n",
    "                  \"subplot\": 1}\n",
    "        }\n",
    "\n",
    "\n",
    "t.ts_uplot(traces = traces, \n",
    "              formatting = {'width':1400, 'height': 600,\n",
    "                            'title': 'Temperature', \n",
    "                            'ylabel': {1: 'Temperature (degC)'}\n",
    "                           }, \n",
    "              options = {'frequency': '30min'}\n",
    "          )"
   ]
  },
  {
   "cell_type": "code",
   "execution_count": null,
   "id": "b6a4c79e-dcde-4885-aa9d-f5a1e1aa4829",
   "metadata": {},
   "outputs": [],
   "source": [
    "traces = {\n",
    "            \"1\": {\"devices\": \"all\",\n",
    "                  \"channel\": \"TEMP\",\n",
    "                  \"subplot\": 1},\n",
    "            \"2\": {\"devices\": \"all\",\n",
    "                  \"channel\": \"HUM\",\n",
    "                  \"subplot\": 2}\n",
    "        }\n",
    "\n",
    "\n",
    "t.ts_uplot(traces = traces, \n",
    "              formatting = {'width':1200, 'height': 400, 'padding-bottom': 600,\n",
    "                            'title': 'Temperature', \n",
    "                            'ylabel': {1: 'Temperature (degC)', 2: 'Humidity (%rh)'}\n",
    "                           }, \n",
    "              options = {'frequency': '30min'}\n",
    "          )"
   ]
  },
  {
   "cell_type": "code",
   "execution_count": null,
   "id": "f95f5a64-b622-4d79-9d2f-b04875b67c72",
   "metadata": {},
   "outputs": [],
   "source": [
    "traces = {\n",
    "            \"1\": {\"devices\": \"all\",\n",
    "                  \"channel\": \"TEMP\",\n",
    "                  \"subplot\": 1},\n",
    "            \"2\": {\"devices\": \"all\",\n",
    "                  \"channel\": \"HUM\",\n",
    "                  \"subplot\": 2}\n",
    "        }\n",
    "\n",
    "\n",
    "t.ts_uplot(traces = traces, \n",
    "              formatting = {'width':1200, 'height': 400, 'padding-bottom': 600,\n",
    "                            'title': 'Temperature', \n",
    "                            'ylabel': {1: 'Temperature (degC)', 2: 'Humidity (%rh)'}\n",
    "                           }, \n",
    "              options = {'frequency': '30min'}\n",
    "          )"
   ]
  },
  {
   "cell_type": "code",
   "execution_count": null,
   "id": "8a7d1e90-84d8-4abf-a09d-f9d9b8c6c588",
   "metadata": {},
   "outputs": [],
   "source": [
    "df = t.get_device(18486).data"
   ]
  },
  {
   "cell_type": "code",
   "execution_count": null,
   "id": "0cc23f04-f39a-486b-8357-fd64b238fa6f",
   "metadata": {},
   "outputs": [],
   "source": [
    "df.loc['2025-02-12 14:07:01+01:00':'2025-02-13 14:07:01+01:00']"
   ]
  },
  {
   "cell_type": "code",
   "execution_count": null,
   "id": "9cc40bcf-c551-489f-9cf7-6395a25fd3c3",
   "metadata": {},
   "outputs": [],
   "source": [
    "t.get_device(18486).data.mean()"
   ]
  },
  {
   "cell_type": "code",
   "execution_count": null,
   "id": "c427334c-ea29-48de-94d2-ecc369e94ce0",
   "metadata": {},
   "outputs": [],
   "source": [
    "t.get_device(18487).data.mean()"
   ]
  },
  {
   "cell_type": "markdown",
   "id": "ef3d7713-85f1-4fdc-ad93-cc2c5aa0d18c",
   "metadata": {},
   "source": [
    "## First day"
   ]
  },
  {
   "cell_type": "code",
   "execution_count": null,
   "id": "675476a7-628d-48a5-8377-6501e1814de8",
   "metadata": {},
   "outputs": [],
   "source": [
    "slots = [18486, 18487]\n",
    "new = [18488, 18489]"
   ]
  },
  {
   "cell_type": "code",
   "execution_count": null,
   "id": "d1cbb2c7-0a7c-43b0-9258-29600c9d081f",
   "metadata": {},
   "outputs": [],
   "source": [
    "date_min = '2025-02-19 14:55:00+01:00'\n",
    "date_max = '2025-02-20 15:00:01+01:00'\n",
    "\n",
    "for did in devices_ids:\n",
    "    if did in slots: device_type = 'slots'\n",
    "    elif did in new: device_type = 'new'\n",
    "    print (device_type, did, t.get_device(did).handler.last_status_message.mac[-5:], '----', \n",
    "           t.get_device(did).data.loc[date_min:date_max, 'AMS AS7731 - UVA'].mean())"
   ]
  },
  {
   "cell_type": "code",
   "execution_count": null,
   "id": "30df160d-a4d3-4e7e-be1a-2597368a34ff",
   "metadata": {},
   "outputs": [],
   "source": [
    "traces = {\n",
    "            \"1\": {\"devices\": \"all\",\n",
    "                  \"channel\": 'AMS AS7731 - UVA',\n",
    "                  \"subplot\": 1}\n",
    "        }\n",
    "\n",
    "\n",
    "t.ts_uplot(traces = traces, \n",
    "              formatting = {'width':1200, 'height': 400, 'padding-bottom': 600,\n",
    "                            'title': 'AMS AS7731 - UVA', \n",
    "                            'ylabel': {1: 'AMS AS7731 - UVA (uW/cm2)'}\n",
    "                           }, \n",
    "              options = {'frequency': '30min', 'min_date': date_min, 'max_date': date_max}\n",
    "          )"
   ]
  },
  {
   "cell_type": "markdown",
   "id": "64955676-b08f-416e-8a26-8b376c396965",
   "metadata": {},
   "source": [
    "## Second day"
   ]
  },
  {
   "cell_type": "code",
   "execution_count": null,
   "id": "922ab991-fe41-4599-b276-d55391660353",
   "metadata": {},
   "outputs": [],
   "source": [
    "date_min = '2025-02-20 15:30:00+01:00'\n",
    "date_max = '2025-03-06 11:30:01+01:00'\n",
    "\n",
    "for did in devices_ids:\n",
    "    if did in slots: device_type = 'slots'\n",
    "    elif did in new: device_type = 'new'\n",
    "    print (device_type, did, t.get_device(did).handler.last_status_message.mac[-5:], '----', t.get_device(did).data.loc[date_min:date_max, 'AMS AS7731 - UVA'].mean())"
   ]
  },
  {
   "cell_type": "code",
   "execution_count": null,
   "id": "34fd5af2-9e78-4f9d-bf80-4e7c382df12d",
   "metadata": {},
   "outputs": [],
   "source": [
    "traces = {\n",
    "            \"1\": {\"devices\": \"all\",\n",
    "                  \"channel\": \"TEMP\",\n",
    "                  \"subplot\": 1},\n",
    "            \"2\": {\"devices\": \"all\",\n",
    "                  \"channel\": \"HUM\",\n",
    "                  \"subplot\": 2}\n",
    "        }\n",
    "\n",
    "\n",
    "t.ts_uplot(traces = traces, \n",
    "              formatting = {'width':1200, 'height': 400, 'padding-bottom': 600,\n",
    "                            'title': 'Temperature', \n",
    "                            'ylabel': {1: 'Temperature (degC)', 2: 'Humidity (%rh)'}\n",
    "                           }, \n",
    "              options = {'frequency': '30min', 'min_date': '2025-02-12 14:07:01+01:00', }\n",
    "          )"
   ]
  },
  {
   "cell_type": "code",
   "execution_count": null,
   "id": "77ca7c21-23b0-4312-806a-7a66d14a8135",
   "metadata": {},
   "outputs": [],
   "source": [
    "traces = {\n",
    "            \"1\": {\"devices\": \"all\",\n",
    "                  \"channel\": \"TEMP\",\n",
    "                  \"subplot\": 1},\n",
    "            \"2\": {\"devices\": \"all\",\n",
    "                  \"channel\": \"HUM\",\n",
    "                  \"subplot\": 2}\n",
    "        }\n",
    "\n",
    "\n",
    "t.ts_uplot(traces = traces, \n",
    "              formatting = {'width':1200, 'height': 400, 'padding-bottom': 600,\n",
    "                            'title': 'Temperature for first day', \n",
    "                            'ylabel': {1: 'Temperature (degC)', 2: 'Humidity (%rh)'}\n",
    "                           }, \n",
    "              options = {'frequency': '30min', 'min_date': '2025-02-12 14:07:01+01:00', 'max_date': '2025-02-13 14:07:01+01:00'}\n",
    "          )"
   ]
  },
  {
   "cell_type": "code",
   "execution_count": null,
   "id": "26f5ae6f-9d6f-462f-92bb-9e9d2857adf2",
   "metadata": {},
   "outputs": [],
   "source": []
  }
 ],
 "metadata": {
  "kernelspec": {
   "display_name": "Python 3 (ipykernel)",
   "language": "python",
   "name": "python3"
  },
  "language_info": {
   "codemirror_mode": {
    "name": "ipython",
    "version": 3
   },
   "file_extension": ".py",
   "mimetype": "text/x-python",
   "name": "python",
   "nbconvert_exporter": "python",
   "pygments_lexer": "ipython3",
   "version": "3.11.9"
  }
 },
 "nbformat": 4,
 "nbformat_minor": 5
}
