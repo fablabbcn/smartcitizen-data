{
 "cells": [
  {
   "cell_type": "markdown",
   "metadata": {},
   "source": [
    "# Visualising data\n",
    "\n",
    "This example shows different types of plots available. Three libraries are used, matplotlib (`plot`), plotly (`iplot`) or uplot (`uplot`)"
   ]
  },
  {
   "cell_type": "code",
   "execution_count": null,
   "metadata": {},
   "outputs": [],
   "source": [
    "from scdata.test import Test\n",
    "from scdata._config import config\n",
    "\n",
    "config.log_level='DEBUG'"
   ]
  },
  {
   "cell_type": "markdown",
   "metadata": {},
   "source": [
    "Load the test from our first example"
   ]
  },
  {
   "cell_type": "code",
   "execution_count": null,
   "metadata": {
    "scrolled": true
   },
   "outputs": [],
   "source": [
    "test = Test(name='EXAMPLE')"
   ]
  },
  {
   "cell_type": "code",
   "execution_count": null,
   "metadata": {
    "scrolled": true
   },
   "outputs": [],
   "source": [
    "await test.load()"
   ]
  },
  {
   "cell_type": "markdown",
   "metadata": {},
   "source": [
    "## Simple timeseries plot"
   ]
  },
  {
   "cell_type": "markdown",
   "metadata": {},
   "source": [
    "### Matplotlib"
   ]
  },
  {
   "cell_type": "code",
   "execution_count": null,
   "metadata": {},
   "outputs": [],
   "source": [
    "traces = {\n",
    "            \"1\": {\"devices\": 16871,\n",
    "                  \"channel\": \"NOISE_A\",\n",
    "                  \"subplot\": 1},\n",
    "        }\n",
    "\n",
    "figure = test.ts_plot(traces = traces)"
   ]
  },
  {
   "cell_type": "markdown",
   "metadata": {},
   "source": [
    "#### Adding more features"
   ]
  },
  {
   "cell_type": "code",
   "execution_count": null,
   "metadata": {},
   "outputs": [],
   "source": [
    "traces = {\n",
    "            \"1\": {\"devices\": \"all\",\n",
    "                  \"channel\": \"NOISE_A\",\n",
    "                  \"subplot\": 1,\n",
    "                  #\"extras\": ['mean', 'max', 'min'], This is handy when comparing devices,\n",
    "                 },\n",
    "            \"2\": {\"devices\": \"all\",\n",
    "                  \"channel\": \"HUM\",\n",
    "                  \"subplot\": 2},\n",
    "            \"3\": {\"devices\": \"all\",\n",
    "                  \"channel\": \"TEMP\",\n",
    "                  \"subplot\": 3}\n",
    "        }\n",
    "\n",
    "\n",
    "options = {\n",
    "            \"show\": True,\n",
    "            \"frequency\": '1Min',\n",
    "            \"clean_na\": None,\n",
    "            #\"max_date\": '2021-10-20',\n",
    "            #\"min_date\": '2021-10-15'\n",
    "            }\n",
    "\n",
    "formatting = {\"xlabel\": \"Date\",\n",
    "              \"ylabel\": {1: \"Noise (dBA Scale)\", 2: \"Humidity (%rh)\", 3: \"Temperature (degC)\"},\n",
    "              \"yrange\": {1: [0, 90], 2: [400, 1400], 3: [5, 40]},\n",
    "              \"xrange\": {1: ['2021-10-15', '2021-10-20 18:00']},\n",
    "              \"title\": \"Example plot\",\n",
    "              \"sharex\":True,\n",
    "              \"grid\": True,\n",
    "              \"legend\": True,\n",
    "              \"height\": 10,\n",
    "              \"width\": 20,\n",
    "              \"suptitle_factor\": 0.92,\n",
    "              \"style\": \"seaborn-whitegrid\",\n",
    "              \"palette\": \"Accent\",\n",
    "              \"decorators\": {'axvline': ['2021-10-16', '2021-10-18'],\n",
    "                               'xtext': {'2021-10-16 06:00:00': 'Quiet', \n",
    "                                         '2021-10-18 06:00:00': 'Traffic'},\n",
    "                            }\n",
    "              }\n",
    "\n",
    "\n",
    "figure = test.ts_plot(traces = traces, options = options, formatting = formatting);\n",
    "# Save it\n",
    "# figure.savefig('~/Desktop/plot.png', dpi = 300, transparent=False, bbox_inches='tight')"
   ]
  },
  {
   "cell_type": "markdown",
   "metadata": {
    "heading_collapsed": "true",
    "jp-MarkdownHeadingCollapsed": true,
    "tags": []
   },
   "source": [
    "### Plotly\n",
    "\n",
    "Deprecated (don't use)"
   ]
  },
  {
   "cell_type": "code",
   "execution_count": null,
   "metadata": {
    "jupyter": {
     "source_hidden": true
    }
   },
   "outputs": [],
   "source": [
    "traces = {\n",
    "            \"1\": {\"devices\": \"10751\",\n",
    "                  \"channel\": [\"PM_1\", \"PM_25\", \"ADC_48_2\", \"ADC_48_3\"],\n",
    "                  \"subplot\": 1},\n",
    "            \"2\": {\"devices\": \"10751\",\n",
    "                  \"channel\": [\"TEMP\", \"HUM\"],\n",
    "                  \"subplot\": 2}\n",
    "        }\n",
    "\n",
    "options = {\n",
    "            \"show\": True,\n",
    "            \"frequency\": '1H',\n",
    "            \"clean_na\": None,\n",
    "            \"max_date\": '2020-05-13',\n",
    "            \"min_date\": '2020-05-06'\n",
    "            }\n",
    "\n",
    "formatting = {\"xlabel\": \"Date\",\n",
    "              \"ylabel\": {1: \"PM1 (ug/m3)\", 2: \"Noise (dBA Scale)\"},\n",
    "              \"yrange\": {1: [0, 90], 2: [0, 100]},\n",
    "              \"xrange\": {1: ['2020-05-06', '2020-05-13']},\n",
    "              \"title\": \"iplot Example\",\n",
    "              \"sharex\":True,\n",
    "              \"grid\": True,\n",
    "              \"legend\": False,\n",
    "              \"height\": 600,\n",
    "              \"width\": 800,\n",
    "              \"suptitle_factor\": 0.92\n",
    "              }\n",
    "\n",
    "test.ts_iplot(traces = traces);"
   ]
  },
  {
   "cell_type": "code",
   "execution_count": null,
   "metadata": {
    "jupyter": {
     "source_hidden": true
    }
   },
   "outputs": [],
   "source": [
    "traces = {\n",
    "            \"1\": {\"devices\": \"10751\",\n",
    "                  \"channel\": \"PM_1\",\n",
    "                  \"subplot\": 1},\n",
    "            \"3\": {\"devices\": \"10751\",\n",
    "                  \"channel\": \"NOISE_A\",\n",
    "                  \"subplot\": 2}\n",
    "          }\n",
    "\n",
    "options = {\n",
    "            \"show\": True,\n",
    "            \"frequency\": '1H',\n",
    "            \"clean_na\": None,\n",
    "            \"max_date\": '2020-05-13',\n",
    "            \"min_date\": '2020-05-06'\n",
    "            }\n",
    "\n",
    "formatting = {\"xlabel\": \"Date\",\n",
    "              \"ylabel\": {1: \"PM1 (ug/m3)\", 2: \"Noise (dBA Scale)\"},\n",
    "              \"yrange\": {1: [0, 90], 2: [0, 100]},\n",
    "              \"xrange\": {1: ['2020-05-06', '2020-05-13']},\n",
    "              \"title\": \"iplot Example\",\n",
    "              \"sharex\":True,\n",
    "              \"grid\": True,\n",
    "              \"legend\": False,\n",
    "              \"height\": 600,\n",
    "              \"width\": 800,\n",
    "              \"suptitle_factor\": 0.92\n",
    "              }\n",
    "\n",
    "\n",
    "test.ts_iplot(traces = traces, options = options, formatting = formatting);"
   ]
  },
  {
   "cell_type": "markdown",
   "metadata": {},
   "source": [
    "### uPlot (Fast interactive plot)\n",
    "\n",
    "Makes much much faster interactive plots than plotly."
   ]
  },
  {
   "cell_type": "code",
   "execution_count": null,
   "metadata": {},
   "outputs": [],
   "source": [
    "traces = {\n",
    "            \"1\": {\"devices\": 16871,\n",
    "                  \"channel\": \"TEMP\",\n",
    "                  \"subplot\": 1},\n",
    "            \"2\": {\"devices\": 16871,\n",
    "                  \"channel\": \"NOISE_A\",\n",
    "                  \"subplot\": 2},\n",
    "        }\n",
    "\n",
    "height = 400\n",
    "\n",
    "test.ts_uplot(traces = traces, \n",
    "              formatting = {'width':1000, \n",
    "                            'height': height, \n",
    "                            'padding-bottom': height*2,\n",
    "                            'title': 'Temperature', \n",
    "                            'ylabel': {1: 'Temperature (degC)',\n",
    "                                       2: 'Noise (dBA)'}\n",
    "                           }, \n",
    "              options = {'frequency': '1Min', 'html': False})"
   ]
  },
  {
   "cell_type": "markdown",
   "metadata": {},
   "source": [
    "## Scatter plot"
   ]
  },
  {
   "cell_type": "markdown",
   "metadata": {},
   "source": [
    "### Matplotlib"
   ]
  },
  {
   "cell_type": "code",
   "execution_count": null,
   "metadata": {},
   "outputs": [],
   "source": [
    "traces = {\n",
    "            \"1\": {\"devices\": 16871,\n",
    "                  \"channel\": \"HUM\"},\n",
    "            \"2\": {\"devices\": 16871,\n",
    "                  \"channel\": \"TEMP\"}  \n",
    "        }\n",
    "\n",
    "options = {\n",
    "            \"show\": True,\n",
    "            \"frequency\": '1Min',\n",
    "            \"clean_na\": None,\n",
    "            }\n",
    "\n",
    "formatting = {\n",
    "              # \"yrange\": [15, 30],\n",
    "              # \"xrange\": [30, 90],\n",
    "              \"title\": \"Scatter example\",\n",
    "              \"grid\": True,\n",
    "              \"legend\": True,\n",
    "              \"height\": 10,\n",
    "              \"suptitle_factor\": 0.92,\n",
    "              \"style\": \"seaborn-whitegrid\",\n",
    "              \"palette\": \"gray\",\n",
    "              }\n",
    "\n",
    "\n",
    "figure = test.scatter_plot(traces = traces, options = options, formatting = formatting);\n",
    "# figure.savefig('~/Desktop/plot.png', dpi = 300, transparent=False, bbox_inches='tight')"
   ]
  },
  {
   "cell_type": "code",
   "execution_count": null,
   "metadata": {},
   "outputs": [],
   "source": [
    "traces = {\n",
    "            \"1\": {\"devices\": 16871,\n",
    "                  \"channel\": \"TEMP\"},\n",
    "            \"2\": {\"devices\": 16871,\n",
    "                  \"channel\": \"NOISE_A\"}\n",
    "        }\n",
    "\n",
    "options = {\n",
    "            \"show\": True,\n",
    "            \"frequency\": '1H',\n",
    "            \"clean_na\": None,\n",
    "            # \"max_date\": '2019-04-20',\n",
    "            # \"min_date\": '2020-02-01'\n",
    "            }\n",
    "\n",
    "formatting = {\n",
    "                \"yrange\": [10, 40],\n",
    "                #\"xrange\": ['2020-02-01', '2020-02-02'],\n",
    "                \"title\": \"Scatter time example\",\n",
    "                \"grid\": True,\n",
    "                \"legend\": True,\n",
    "                \"suptitle_factor\": 0.92,\n",
    "                \"title_fontsize\": 13,\n",
    "                \"fontsize\": 12,\n",
    "                \"style\": \"seaborn-whitegrid\",\n",
    "                \"palette\": \"gray\",\n",
    "                'ylabel': 'Temperature (degC)'\n",
    "              }\n",
    "\n",
    "\n",
    "figure = test.ts_scatter(traces = traces, options = options, formatting = formatting);\n",
    "#figure.savefig('~/Desktop/plot.png', dpi = 300, transparent=False, bbox_inches='tight')"
   ]
  },
  {
   "cell_type": "markdown",
   "metadata": {},
   "source": [
    "## Heatmap"
   ]
  },
  {
   "cell_type": "markdown",
   "metadata": {},
   "source": [
    "### Matplotlib"
   ]
  },
  {
   "cell_type": "code",
   "execution_count": null,
   "metadata": {},
   "outputs": [],
   "source": [
    "traces = {\n",
    "            \"1\": {\"devices\": 16871,\n",
    "                  \"channel\": \"NOISE_A\"} \n",
    "        }\n",
    "\n",
    "options = {\n",
    "            \"show\": True,\n",
    "            \"frequency\": '1Min',\n",
    "            \"clean_na\": None,\n",
    "            }\n",
    "\n",
    "formatting = {\"title\": \"Temperature Heatmap\",\n",
    "              \"grid\": True,\n",
    "              \"legend\": True,\n",
    "              \"height\": 10,\n",
    "              \"suptitle_factor\": 0.92,\n",
    "              \"style\": \"seaborn-whitegrid\"\n",
    "              }\n",
    "\n",
    "figure = test.heatmap_plot(traces = traces, options = options, formatting = formatting);"
   ]
  },
  {
   "cell_type": "markdown",
   "metadata": {
    "jp-MarkdownHeadingCollapsed": true,
    "tags": []
   },
   "source": [
    "### Plotly\n",
    "\n",
    "Deprecated (don't use)"
   ]
  },
  {
   "cell_type": "code",
   "execution_count": null,
   "metadata": {},
   "outputs": [],
   "source": [
    "traces = {\n",
    "            \"1\": {\"devices\": \"10751\",\n",
    "                  \"channel\": \"GB_2W\"} \n",
    "        }\n",
    "\n",
    "options = {\n",
    "            \"show\": True,\n",
    "            \"frequency\": '1Min',\n",
    "            \"clean_na\": None,\n",
    "            \"max_date\": '2020-11-20',\n",
    "            \"min_date\": '2020-08-05'\n",
    "            }\n",
    "\n",
    "formatting = {\"title\": \"PM Evolution\",\n",
    "              \"grid\": True,\n",
    "              \"legend\": True,\n",
    "              \"height\": 10,\n",
    "              \"suptitle_factor\": 0.92\n",
    "              }\n",
    "\n",
    "figure = test.heatmap_iplot(traces = traces, options = options, formatting = formatting);"
   ]
  },
  {
   "cell_type": "markdown",
   "metadata": {},
   "source": [
    "## Boxplot (to-fix)"
   ]
  },
  {
   "cell_type": "code",
   "execution_count": null,
   "metadata": {},
   "outputs": [],
   "source": [
    "traces = {\n",
    "            \"1\": {\"devices\": 16871,\n",
    "                  \"channel\": \"NOISE_A\"} \n",
    "        }\n",
    "\n",
    "options = {\n",
    "            \"show\": True,\n",
    "            \"frequency\": '1Min',\n",
    "            \"clean_na\": None,\n",
    "            }\n",
    "\n",
    "formatting = {\"title\": \"Noise Box Plot\",\n",
    "              \"grid\": True,\n",
    "              \"legend\": True,\n",
    "              \"height\": 10,\n",
    "              \"suptitle_factor\": 0.92,\n",
    "              \"periods\": {\"dates\": ['2021-10-15', '2021-10-19', None],\n",
    "                          \"labels\": [\"Pre-lockdown\", \"Post-lockdown\"]\n",
    "                         },\n",
    "              }\n",
    "\n",
    "figure = test.box_plot(traces = traces, options = options, formatting = formatting);"
   ]
  },
  {
   "cell_type": "markdown",
   "metadata": {},
   "source": [
    "## More complex plots (to-fix)"
   ]
  },
  {
   "cell_type": "code",
   "execution_count": null,
   "metadata": {},
   "outputs": [],
   "source": [
    "import seaborn as sns\n",
    "import pandas as pd\n",
    "import numpy as np"
   ]
  },
  {
   "cell_type": "code",
   "execution_count": null,
   "metadata": {},
   "outputs": [],
   "source": [
    "%matplotlib inline"
   ]
  },
  {
   "cell_type": "code",
   "execution_count": null,
   "metadata": {},
   "outputs": [],
   "source": [
    "combined_df = pd.concat([test.devices[str(device)].readings for device in test.devices])\n",
    "combined_df['device'] = np.repeat([str(device) for device in test.devices], [len(test.devices[str(device)].readings) for device in test.devices])\n",
    "combined_df.index = pd.to_datetime(combined_df.index, utc=True)\n",
    "combined_df['day_of_week'] = combined_df.index.day_name()\n",
    "\n",
    "def is_business(x):\n",
    "    if x['day_of_week'] in ['Monday', 'Tuesday', 'Wednesday', 'Thursday', 'Friday']: return True\n",
    "    else: return False\n",
    "    \n",
    "combined_df['is_business'] = combined_df.apply(lambda x: is_business(x), axis = 1)\n",
    "combined_df.head(5)"
   ]
  },
  {
   "cell_type": "code",
   "execution_count": null,
   "metadata": {},
   "outputs": [],
   "source": [
    "g = sns.catplot(x=\"is_business\", y=\"NOISE_A\",\n",
    "            col = \"device\", col_wrap=3,\n",
    "            data=combined_df, height=8, aspect=0.8)\n",
    "\n",
    "(g.set_axis_labels(\"\", \"Noise Level (dBA)\")\n",
    "  .set_xticklabels([\"Weekends\", \"Mondays to Fridays\"])\n",
    "# .set(ylim=(0, 80))\n",
    "  .despine(left=True))"
   ]
  },
  {
   "cell_type": "code",
   "execution_count": null,
   "metadata": {},
   "outputs": [],
   "source": []
  }
 ],
 "metadata": {
  "kernelspec": {
   "display_name": "Python 3 (ipykernel)",
   "language": "python",
   "name": "python3"
  },
  "language_info": {
   "codemirror_mode": {
    "name": "ipython",
    "version": 3
   },
   "file_extension": ".py",
   "mimetype": "text/x-python",
   "name": "python",
   "nbconvert_exporter": "python",
   "pygments_lexer": "ipython3",
   "version": "3.8.16"
  }
 },
 "nbformat": 4,
 "nbformat_minor": 4
}
