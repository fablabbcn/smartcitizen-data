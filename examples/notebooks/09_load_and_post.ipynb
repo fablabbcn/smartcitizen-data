{
 "cells": [
  {
   "cell_type": "code",
   "execution_count": null,
   "metadata": {},
   "outputs": [],
   "source": [
    "import scdata as sc\n",
    "from scdata._config import config\n",
    "from scdata.utils.meta import load_env\n",
    "from scdata.io import sdcard_concat\n",
    "from os.path import join\n",
    "\n",
    "config._out_level = 'DEBUG'"
   ]
  },
  {
   "cell_type": "markdown",
   "metadata": {},
   "source": [
    "Load the oAuth API Key into your environment. You can use either format from below"
   ]
  },
  {
   "cell_type": "code",
   "execution_count": null,
   "metadata": {},
   "outputs": [],
   "source": [
    "'''\n",
    "Envile path with the following format\n",
    "---\n",
    "SC_BEARER=...\n",
    "[...]\n",
    "---\n",
    "Where SC_BEARER can be obtained from https://smartcitizen.me/profile/users - oAuth API Key\n",
    "'''\n",
    "\n",
    "envfile = '/PATH/TO/ENVFILE/.env'\n",
    "load_env(envfile)"
   ]
  },
  {
   "cell_type": "markdown",
   "metadata": {},
   "source": [
    "**Alternatively** you can load the oAuth API Key as below"
   ]
  },
  {
   "cell_type": "code",
   "execution_count": null,
   "metadata": {},
   "outputs": [],
   "source": [
    "import os\n",
    "\n",
    "os.environ['SC_BEARER'] = 'yourtokenhere'"
   ]
  },
  {
   "cell_type": "markdown",
   "metadata": {},
   "source": [
    "## Location"
   ]
  },
  {
   "cell_type": "markdown",
   "metadata": {},
   "source": [
    "This is where you should place your `sd-card` files"
   ]
  },
  {
   "cell_type": "code",
   "execution_count": null,
   "metadata": {},
   "outputs": [],
   "source": [
    "config.paths['raw']"
   ]
  },
  {
   "cell_type": "markdown",
   "metadata": {
    "tags": []
   },
   "source": [
    "Make folders in that directory with the `<device ids>` you will post. **They must be owned by the user that originated the token**.\n",
    "\n",
    "Place the CSVs in a the `~/.scdata/raw` folder structure as such (one folder per device ID from the platform (see https://docs.smartcitizen.me/Guides/data/Organise%20your%20data/#organise-your-data) for more information.\n",
    "\n",
    "**Remember - you can directly paste all the files (including the ones that end in 0.1, 0.2, 0.3...)**\n",
    "\n",
    "```\n",
    "~\n",
    "├── .cache\n",
    "│  ├── scdata\n",
    "│  │  ├── raw\n",
    "│  │  │  ├── 13318\n",
    "│  │  │  │   ├── 20-12-10.01\n",
    "│  │  │  │   ├── 20-12-10.02\n",
    "│  │  │  │   ├── 20-12-10.03\n",
    "│  │  │  │   ├── 20-12-10.CSV\n",
    "│  │  │  │   ├── ...\n",
    "│  │  │  │   └── 20-12-14.CSV\n",
    "│  │  │  ├── 13319\n",
    "│  │  │  │   ├── 20-12-08.01\n",
    "│  │  │  │   ├── 20-12-08.CSV\n",
    "│  │  │  │   ├── 20-12-09.CSV\n",
    "│  │  │  │   ├── 20-12-10.CSV\n",
    "│  │  │  │   ├── ...\n",
    "│  │  │  │   └── 20-12-11.CSV\n",
    "```"
   ]
  },
  {
   "cell_type": "markdown",
   "metadata": {},
   "source": [
    "## Example of single device"
   ]
  },
  {
   "cell_type": "code",
   "execution_count": null,
   "metadata": {},
   "outputs": [],
   "source": [
    "folder = join(config.paths['raw'], \"12552\")\n",
    "device = sc.Device(descriptor = {'source': 'api', 'id': \"12552\"})"
   ]
  },
  {
   "cell_type": "code",
   "execution_count": null,
   "metadata": {},
   "outputs": [],
   "source": [
    "# If output = '', it only returns a DataFrame\n",
    "device.readings = sdcard_concat(folder, output = '')"
   ]
  },
  {
   "cell_type": "code",
   "execution_count": null,
   "metadata": {},
   "outputs": [],
   "source": [
    "device.readings"
   ]
  },
  {
   "cell_type": "code",
   "execution_count": null,
   "metadata": {},
   "outputs": [],
   "source": [
    "# If output is a *.csv or *.CSV file, saves also a CSV in the same folder. Default is CONCAT.CSV\n",
    "device.readings = sdcard_concat(folder, output = 'CONCAT.CSV')\n",
    "# Is the same as\n",
    "# device.readings = sdcard_concat(folder)"
   ]
  },
  {
   "cell_type": "markdown",
   "metadata": {},
   "source": [
    "If the device **is yours**, then you can use the API token to post it to the API"
   ]
  },
  {
   "cell_type": "code",
   "execution_count": null,
   "metadata": {
    "scrolled": true,
    "tags": []
   },
   "outputs": [],
   "source": [
    "device.post_sensors(dry_run = True) # If dry_run = True, prints the json payload of the first chunk only, otherwise, it posts all the data"
   ]
  },
  {
   "cell_type": "markdown",
   "metadata": {},
   "source": [
    "## List of devices"
   ]
  },
  {
   "cell_type": "code",
   "execution_count": null,
   "metadata": {},
   "outputs": [],
   "source": [
    "# List of folder to post\n",
    "devices = [\"12552\", \"13318\", \"14852\"]\n",
    "devd = dict()"
   ]
  },
  {
   "cell_type": "code",
   "execution_count": null,
   "metadata": {
    "tags": []
   },
   "outputs": [],
   "source": [
    "for device in devices:\n",
    "    folder = join(config.paths['raw'], device)\n",
    "    \n",
    "    # If you have a normal sck_21...\n",
    "    dev = sc.Device(descriptor = {'source': 'api', 'id': device})\n",
    "    \n",
    "    # If you have something else... modify the blueprint\n",
    "    # dev = sc.Device(blueprint = 'sck_21_co2', descriptor = {'source': 'api', 'id': device})\n",
    "\n",
    "    print (f'Processing device {device}')\n",
    "    print (f'Loading files from {folder}')\n",
    "\n",
    "    dev.readings = sdcard_concat(folder)\n",
    "    \n",
    "    devd[device] = dev"
   ]
  },
  {
   "cell_type": "markdown",
   "metadata": {},
   "source": [
    "Have a look at things before posting"
   ]
  },
  {
   "cell_type": "code",
   "execution_count": null,
   "metadata": {},
   "outputs": [],
   "source": [
    "devices"
   ]
  },
  {
   "cell_type": "code",
   "execution_count": null,
   "metadata": {},
   "outputs": [],
   "source": [
    "devd[devices[0]].readings"
   ]
  },
  {
   "cell_type": "code",
   "execution_count": null,
   "metadata": {},
   "outputs": [],
   "source": [
    "devd[devices[0]].sensors"
   ]
  },
  {
   "cell_type": "markdown",
   "metadata": {},
   "source": [
    "Post the first one!"
   ]
  },
  {
   "cell_type": "code",
   "execution_count": null,
   "metadata": {},
   "outputs": [],
   "source": [
    "devd[devices[0]].post_sensors(dry_run = True) # If dry_run = True, prints the json payload of the first chunk only"
   ]
  },
  {
   "cell_type": "markdown",
   "metadata": {},
   "source": [
    "Or post all of them!"
   ]
  },
  {
   "cell_type": "code",
   "execution_count": null,
   "metadata": {},
   "outputs": [],
   "source": [
    "for device in devices:\n",
    "    devd[device].post_sensors(dry_run = True)"
   ]
  }
 ],
 "metadata": {
  "kernelspec": {
   "display_name": "Python 3",
   "language": "python",
   "name": "python3"
  },
  "language_info": {
   "codemirror_mode": {
    "name": "ipython",
    "version": 3
   },
   "file_extension": ".py",
   "mimetype": "text/x-python",
   "name": "python",
   "nbconvert_exporter": "python",
   "pygments_lexer": "ipython3",
   "version": "3.9.9"
  }
 },
 "nbformat": 4,
 "nbformat_minor": 4
}
