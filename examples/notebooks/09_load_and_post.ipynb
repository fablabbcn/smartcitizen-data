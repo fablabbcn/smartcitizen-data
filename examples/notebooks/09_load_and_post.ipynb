{
 "cells": [
  {
   "cell_type": "code",
   "execution_count": null,
   "metadata": {},
   "outputs": [],
   "source": [
    "import scdata as sc\n",
    "from scdata._config import config\n",
    "from scdata.utils.meta import load_env\n",
    "from scdata.io import sdcard_concat\n",
    "from os.path import join\n",
    "\n",
    "config._out_level = 'DEBUG'"
   ]
  },
  {
   "cell_type": "markdown",
   "metadata": {},
   "source": [
    "Load the oAuth API Key into your environment. You can use either format from below"
   ]
  },
  {
   "cell_type": "code",
   "execution_count": null,
   "metadata": {},
   "outputs": [],
   "source": [
    "'''\n",
    "Envile path with the following format\n",
    "---\n",
    "SC_BEARER=...\n",
    "[...]\n",
    "---\n",
    "Where SC_BEARER can be obtained from  https://smartcitizen.me/profile/users - oAuth API Key\n",
    "'''\n",
    "\n",
    "envfile = '/PATH/TO/ENVFILE/.env'\n",
    "load_env(envfile)"
   ]
  },
  {
   "cell_type": "markdown",
   "metadata": {},
   "source": [
    "Alternatively you can load the oAuth API Key as below"
   ]
  },
  {
   "cell_type": "code",
   "execution_count": null,
   "metadata": {},
   "outputs": [],
   "source": [
    "import os\n",
    "\n",
    "os.environ['SC_BEARER'] = 'yourtokenhere'"
   ]
  },
  {
   "cell_type": "markdown",
   "metadata": {},
   "source": [
    "## Location"
   ]
  },
  {
   "cell_type": "code",
   "execution_count": null,
   "metadata": {},
   "outputs": [],
   "source": [
    "'''\n",
    "List of devices to post. They must be owned by the user that originated the token\n",
    "Place the csvs in a the ~/.scdata/raw folder structure as such (one folder per device ID from the platform (see https://docs.smartcitizen.me/Guides/data/Organise%20your%20data/#organise-your-data)\n",
    "for more information\n",
    "~\n",
    "├── .cache\n",
    "│  ├── scdata\n",
    "│  │  ├── raw\n",
    "│  │  │  ├── 13318\n",
    "│  │  │  │   ├── 20-12-10.01\n",
    "│  │  │  │   ├── 20-12-10.02\n",
    "│  │  │  │   ├── 20-12-10.03\n",
    "│  │  │  │   ├── 20-12-10.CSV\n",
    "│  │  │  │   ├── ...\n",
    "│  │  │  │   └── 20-12-14.CSV\n",
    "│  │  │  ├── 13319\n",
    "│  │  │  │   ├── 20-12-08.01\n",
    "│  │  │  │   ├── 20-12-08.CSV\n",
    "│  │  │  │   ├── 20-12-09.CSV\n",
    "│  │  │  │   ├── 20-12-10.CSV\n",
    "│  │  │  │   ├── ...\n",
    "│  │  │  │   └── 20-12-11.CSV\n",
    "'''"
   ]
  },
  {
   "cell_type": "markdown",
   "metadata": {},
   "source": [
    "## Example of single device"
   ]
  },
  {
   "cell_type": "code",
   "execution_count": null,
   "metadata": {},
   "outputs": [],
   "source": [
    "folder = join(config.paths['raw'], \"14212\")\n",
    "device = sc.Device(descriptor = {'source': 'api', 'id': \"14212\"})"
   ]
  },
  {
   "cell_type": "code",
   "execution_count": null,
   "metadata": {},
   "outputs": [],
   "source": [
    "# If output = '', it only returns a DataFrame\n",
    "device.readings = sdcard_concat(folder, output = '')"
   ]
  },
  {
   "cell_type": "code",
   "execution_count": null,
   "metadata": {},
   "outputs": [],
   "source": [
    "device.readings"
   ]
  },
  {
   "cell_type": "code",
   "execution_count": null,
   "metadata": {},
   "outputs": [],
   "source": [
    "# If output is a *.csv or *.CSV file, saves also a CSV in the same folder. Default is CONCAT.CSV\n",
    "device.readings = sdcard_concat(folder, output = 'CONCAT.CSV')\n",
    "# Is the same as\n",
    "# device.readings = sdcard_concat(folder)"
   ]
  },
  {
   "cell_type": "code",
   "execution_count": null,
   "metadata": {},
   "outputs": [],
   "source": [
    "device.post_sensors(dry_run = False) # If dry_run = True, prints the json payload of the first chunk only"
   ]
  },
  {
   "cell_type": "markdown",
   "metadata": {},
   "source": [
    "## List of devices"
   ]
  },
  {
   "cell_type": "code",
   "execution_count": null,
   "metadata": {},
   "outputs": [],
   "source": [
    "# List of folder to post\n",
    "devices = [\"12626\", \"13319\"]\n",
    "devd = dict()"
   ]
  },
  {
   "cell_type": "code",
   "execution_count": null,
   "metadata": {},
   "outputs": [],
   "source": [
    "for device in devices:\n",
    "    folder = join(config.paths['raw'], device)\n",
    "    \n",
    "    # If you have a normal sck_21...\n",
    "    dev = sc.Device(descriptor = {'source': 'api', 'id': device})\n",
    "    \n",
    "    # If you have something else... modify the blueprint\n",
    "    # dev = sc.Device(blueprint = 'sck_21_co2', descriptor = {'source': 'api', 'id': device})\n",
    "\n",
    "    print (f'Processing device {device}')\n",
    "    print (f'Loading files from {folder}')\n",
    "\n",
    "    dev.readings = sdcard_concat(folder)\n",
    "    \n",
    "    devd[device] = dev"
   ]
  },
  {
   "cell_type": "markdown",
   "metadata": {},
   "source": [
    "Have a look at things before posting"
   ]
  },
  {
   "cell_type": "code",
   "execution_count": null,
   "metadata": {},
   "outputs": [],
   "source": [
    "devices"
   ]
  },
  {
   "cell_type": "code",
   "execution_count": null,
   "metadata": {},
   "outputs": [],
   "source": [
    "devd[devices[0]].readings"
   ]
  },
  {
   "cell_type": "code",
   "execution_count": null,
   "metadata": {},
   "outputs": [],
   "source": [
    "devd[devices[0]].sensors"
   ]
  },
  {
   "cell_type": "markdown",
   "metadata": {},
   "source": [
    "Post it!"
   ]
  },
  {
   "cell_type": "code",
   "execution_count": null,
   "metadata": {},
   "outputs": [],
   "source": [
    "devd[devices[0]].post_sensors(dry_run = False) # If dry_run = True, prints the json payload of the first chunk only"
   ]
  }
 ],
 "metadata": {
  "kernelspec": {
   "display_name": "Python 3",
   "language": "python",
   "name": "python3"
  },
  "language_info": {
   "codemirror_mode": {
    "name": "ipython",
    "version": 3
   },
   "file_extension": ".py",
   "mimetype": "text/x-python",
   "name": "python",
   "nbconvert_exporter": "python",
   "pygments_lexer": "ipython3",
   "version": "3.7.3"
  }
 },
 "nbformat": 4,
 "nbformat_minor": 4
}
